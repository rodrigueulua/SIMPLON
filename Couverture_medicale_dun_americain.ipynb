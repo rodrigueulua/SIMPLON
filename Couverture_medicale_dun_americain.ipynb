{
 "cells": [
  {
   "cell_type": "markdown",
   "metadata": {},
   "source": [
    "<p style='color:black; font-size:32px; text-align:center'> <strong>Désigner le meilleur modèle de machine learning</strong>\n",
    "</p>\n",
    "<p style='color:grey; font-size:24px; text-align:center'> Rapport sur la prédiction du coût de la couverture médicale d'un.e américain.e pour une nouvelle compagnie d'assurance maladie</p>"
   ]
  },
  {
   "cell_type": "markdown",
   "metadata": {},
   "source": [
    "# Sommaire <a class=\"anchor\" id=\"Sommaire\"></a>\n",
    "\n",
    "* [Introduction](#intro)\n",
    "* [Prérequis](#Imports)\n",
    "* [I. Import des données](#donnees)\n",
    "* [II. Phase exploratoire des données](#exp)\n",
    "* [III. Division en sous-ensembles](#div)\n",
    "* [IV. Régression linéaire multiple](#model)\n",
    "* [V. Arbre de régression](#AR)\n",
    "* [VI. Random Forest](#RF)\n",
    "* [Conclusion générale](#Conclusion)"
   ]
  },
  {
   "cell_type": "markdown",
   "metadata": {},
   "source": [
    "# Contexte et objectif du projet  <a class=\"anchor\" id=\"intro\"></a>\n",
    "\n",
    "<p>Une nouvelle compagnie d'assurance maladie souhaite proposer une formule personnalisée à ses futurs.es clients.es.\n",
    "\n",
    "Afin d'établir son business model, la compagnie doit être en mesure d'estimer les frais médicaux facturés par l'assurance santé pour ses prospects.\n",
    "\n",
    "Elle fait appel à votre start-up qui développe des solutions en IA pour développer un modèle de machine learning capable de prédire les frais médicaux de ses prospects.\n",
    "\n",
    "La compagnie d'assurance fournit à votre start-up un historique des dépenses en frais de santé.\n",
    "</p>"
   ]
  },
  {
   "cell_type": "markdown",
   "metadata": {},
   "source": [
    "# Prérequis <a class=\"anchor\" id=\"Imports\"></a>"
   ]
  },
  {
   "cell_type": "code",
   "execution_count": 281,
   "metadata": {},
   "outputs": [],
   "source": [
    "# Imports \n",
    "\n",
    "import pandas as pd\n",
    "import numpy as np\n",
    "import matplotlib.pyplot as plt\n",
    "import seaborn as sns\n",
    "\n",
    "from scipy import stats\n",
    "import statsmodels.api as sm\n",
    "import statsmodels.formula.api as smf\n",
    "import scipy.sparse as sparse\n",
    "\n",
    "from PIL import Image\n",
    "\n",
    "from sklearn.model_selection import train_test_split\n",
    "from sklearn.linear_model import LinearRegression\n",
    "from sklearn.tree import DecisionTreeRegressor, plot_tree, export_graphviz\n",
    "from sklearn.ensemble import RandomForestRegressor\n",
    "from sklearn.model_selection import GridSearchCV\n",
    "\n",
    "from sklearn.preprocessing import LabelEncoder\n",
    "from sklearn.preprocessing import OneHotEncoder \n",
    "from sklearn.preprocessing import StandardScaler\n",
    "from sklearn.compose import ColumnTransformer \n",
    "from sklearn import linear_model\n",
    "from sklearn import metrics \n",
    "from sklearn import tree\n",
    "\n",
    "import sidetable as stb"
   ]
  },
  {
   "cell_type": "markdown",
   "metadata": {},
   "source": [
    "# PARTIE 1 : Import des données <a class=\"anchor\" id=\"donnees\"></a>"
   ]
  },
  {
   "cell_type": "markdown",
   "metadata": {},
   "source": [
    "#### ⭱ [Haut de page](#Sommaire) "
   ]
  },
  {
   "cell_type": "code",
   "execution_count": 179,
   "metadata": {},
   "outputs": [],
   "source": [
    "# Import du fichier\n",
    "df_cmed = pd.read_csv(r\"https://simplonline-v3-prod.s3.eu-west-3.amazonaws.com/media/file/csv/d51b9368-7437-420c-975c-81cac8790b68.csv\")"
   ]
  },
  {
   "cell_type": "code",
   "execution_count": 180,
   "metadata": {},
   "outputs": [
    {
     "data": {
      "text/html": [
       "<div>\n",
       "<style scoped>\n",
       "    .dataframe tbody tr th:only-of-type {\n",
       "        vertical-align: middle;\n",
       "    }\n",
       "\n",
       "    .dataframe tbody tr th {\n",
       "        vertical-align: top;\n",
       "    }\n",
       "\n",
       "    .dataframe thead th {\n",
       "        text-align: right;\n",
       "    }\n",
       "</style>\n",
       "<table border=\"1\" class=\"dataframe\">\n",
       "  <thead>\n",
       "    <tr style=\"text-align: right;\">\n",
       "      <th></th>\n",
       "      <th>age</th>\n",
       "      <th>sex</th>\n",
       "      <th>bmi</th>\n",
       "      <th>children</th>\n",
       "      <th>smoker</th>\n",
       "      <th>region</th>\n",
       "      <th>charges</th>\n",
       "    </tr>\n",
       "  </thead>\n",
       "  <tbody>\n",
       "    <tr>\n",
       "      <th>0</th>\n",
       "      <td>19</td>\n",
       "      <td>female</td>\n",
       "      <td>27.900</td>\n",
       "      <td>0</td>\n",
       "      <td>yes</td>\n",
       "      <td>southwest</td>\n",
       "      <td>16884.92400</td>\n",
       "    </tr>\n",
       "    <tr>\n",
       "      <th>1</th>\n",
       "      <td>18</td>\n",
       "      <td>male</td>\n",
       "      <td>33.770</td>\n",
       "      <td>1</td>\n",
       "      <td>no</td>\n",
       "      <td>southeast</td>\n",
       "      <td>1725.55230</td>\n",
       "    </tr>\n",
       "    <tr>\n",
       "      <th>2</th>\n",
       "      <td>28</td>\n",
       "      <td>male</td>\n",
       "      <td>33.000</td>\n",
       "      <td>3</td>\n",
       "      <td>no</td>\n",
       "      <td>southeast</td>\n",
       "      <td>4449.46200</td>\n",
       "    </tr>\n",
       "    <tr>\n",
       "      <th>3</th>\n",
       "      <td>33</td>\n",
       "      <td>male</td>\n",
       "      <td>22.705</td>\n",
       "      <td>0</td>\n",
       "      <td>no</td>\n",
       "      <td>northwest</td>\n",
       "      <td>21984.47061</td>\n",
       "    </tr>\n",
       "    <tr>\n",
       "      <th>4</th>\n",
       "      <td>32</td>\n",
       "      <td>male</td>\n",
       "      <td>28.880</td>\n",
       "      <td>0</td>\n",
       "      <td>no</td>\n",
       "      <td>northwest</td>\n",
       "      <td>3866.85520</td>\n",
       "    </tr>\n",
       "    <tr>\n",
       "      <th>5</th>\n",
       "      <td>31</td>\n",
       "      <td>female</td>\n",
       "      <td>25.740</td>\n",
       "      <td>0</td>\n",
       "      <td>no</td>\n",
       "      <td>southeast</td>\n",
       "      <td>3756.62160</td>\n",
       "    </tr>\n",
       "    <tr>\n",
       "      <th>6</th>\n",
       "      <td>46</td>\n",
       "      <td>female</td>\n",
       "      <td>33.440</td>\n",
       "      <td>1</td>\n",
       "      <td>no</td>\n",
       "      <td>southeast</td>\n",
       "      <td>8240.58960</td>\n",
       "    </tr>\n",
       "    <tr>\n",
       "      <th>7</th>\n",
       "      <td>37</td>\n",
       "      <td>female</td>\n",
       "      <td>27.740</td>\n",
       "      <td>3</td>\n",
       "      <td>no</td>\n",
       "      <td>northwest</td>\n",
       "      <td>7281.50560</td>\n",
       "    </tr>\n",
       "    <tr>\n",
       "      <th>8</th>\n",
       "      <td>37</td>\n",
       "      <td>male</td>\n",
       "      <td>29.830</td>\n",
       "      <td>2</td>\n",
       "      <td>no</td>\n",
       "      <td>northeast</td>\n",
       "      <td>6406.41070</td>\n",
       "    </tr>\n",
       "    <tr>\n",
       "      <th>9</th>\n",
       "      <td>60</td>\n",
       "      <td>female</td>\n",
       "      <td>25.840</td>\n",
       "      <td>0</td>\n",
       "      <td>no</td>\n",
       "      <td>northwest</td>\n",
       "      <td>28923.13692</td>\n",
       "    </tr>\n",
       "  </tbody>\n",
       "</table>\n",
       "</div>"
      ]
     },
     "metadata": {},
     "output_type": "display_data"
    }
   ],
   "source": [
    "# Afficher les cinq premières lignes\n",
    "df_cmed.head(10)"
   ]
  },
  {
   "cell_type": "code",
   "execution_count": 181,
   "metadata": {},
   "outputs": [
    {
     "data": {
      "text/html": [
       "<div>\n",
       "<style scoped>\n",
       "    .dataframe tbody tr th:only-of-type {\n",
       "        vertical-align: middle;\n",
       "    }\n",
       "\n",
       "    .dataframe tbody tr th {\n",
       "        vertical-align: top;\n",
       "    }\n",
       "\n",
       "    .dataframe thead th {\n",
       "        text-align: right;\n",
       "    }\n",
       "</style>\n",
       "<table border=\"1\" class=\"dataframe\">\n",
       "  <thead>\n",
       "    <tr style=\"text-align: right;\">\n",
       "      <th></th>\n",
       "      <th>age</th>\n",
       "      <th>sex</th>\n",
       "      <th>bmi</th>\n",
       "      <th>children</th>\n",
       "      <th>smoker</th>\n",
       "      <th>region</th>\n",
       "      <th>charges</th>\n",
       "    </tr>\n",
       "  </thead>\n",
       "  <tbody>\n",
       "    <tr>\n",
       "      <th>1328</th>\n",
       "      <td>23</td>\n",
       "      <td>female</td>\n",
       "      <td>24.225</td>\n",
       "      <td>2</td>\n",
       "      <td>no</td>\n",
       "      <td>northeast</td>\n",
       "      <td>22395.74424</td>\n",
       "    </tr>\n",
       "    <tr>\n",
       "      <th>1329</th>\n",
       "      <td>52</td>\n",
       "      <td>male</td>\n",
       "      <td>38.600</td>\n",
       "      <td>2</td>\n",
       "      <td>no</td>\n",
       "      <td>southwest</td>\n",
       "      <td>10325.20600</td>\n",
       "    </tr>\n",
       "    <tr>\n",
       "      <th>1330</th>\n",
       "      <td>57</td>\n",
       "      <td>female</td>\n",
       "      <td>25.740</td>\n",
       "      <td>2</td>\n",
       "      <td>no</td>\n",
       "      <td>southeast</td>\n",
       "      <td>12629.16560</td>\n",
       "    </tr>\n",
       "    <tr>\n",
       "      <th>1331</th>\n",
       "      <td>23</td>\n",
       "      <td>female</td>\n",
       "      <td>33.400</td>\n",
       "      <td>0</td>\n",
       "      <td>no</td>\n",
       "      <td>southwest</td>\n",
       "      <td>10795.93733</td>\n",
       "    </tr>\n",
       "    <tr>\n",
       "      <th>1332</th>\n",
       "      <td>52</td>\n",
       "      <td>female</td>\n",
       "      <td>44.700</td>\n",
       "      <td>3</td>\n",
       "      <td>no</td>\n",
       "      <td>southwest</td>\n",
       "      <td>11411.68500</td>\n",
       "    </tr>\n",
       "    <tr>\n",
       "      <th>1333</th>\n",
       "      <td>50</td>\n",
       "      <td>male</td>\n",
       "      <td>30.970</td>\n",
       "      <td>3</td>\n",
       "      <td>no</td>\n",
       "      <td>northwest</td>\n",
       "      <td>10600.54830</td>\n",
       "    </tr>\n",
       "    <tr>\n",
       "      <th>1334</th>\n",
       "      <td>18</td>\n",
       "      <td>female</td>\n",
       "      <td>31.920</td>\n",
       "      <td>0</td>\n",
       "      <td>no</td>\n",
       "      <td>northeast</td>\n",
       "      <td>2205.98080</td>\n",
       "    </tr>\n",
       "    <tr>\n",
       "      <th>1335</th>\n",
       "      <td>18</td>\n",
       "      <td>female</td>\n",
       "      <td>36.850</td>\n",
       "      <td>0</td>\n",
       "      <td>no</td>\n",
       "      <td>southeast</td>\n",
       "      <td>1629.83350</td>\n",
       "    </tr>\n",
       "    <tr>\n",
       "      <th>1336</th>\n",
       "      <td>21</td>\n",
       "      <td>female</td>\n",
       "      <td>25.800</td>\n",
       "      <td>0</td>\n",
       "      <td>no</td>\n",
       "      <td>southwest</td>\n",
       "      <td>2007.94500</td>\n",
       "    </tr>\n",
       "    <tr>\n",
       "      <th>1337</th>\n",
       "      <td>61</td>\n",
       "      <td>female</td>\n",
       "      <td>29.070</td>\n",
       "      <td>0</td>\n",
       "      <td>yes</td>\n",
       "      <td>northwest</td>\n",
       "      <td>29141.36030</td>\n",
       "    </tr>\n",
       "  </tbody>\n",
       "</table>\n",
       "</div>"
      ]
     },
     "metadata": {},
     "output_type": "display_data"
    }
   ],
   "source": [
    "# Afficher les cinq dernières lignes\n",
    "df_cmed.tail(10)"
   ]
  },
  {
   "cell_type": "code",
   "execution_count": 182,
   "metadata": {},
   "outputs": [
    {
     "data": {
      "text/plain": [
       "(1338, 7)"
      ]
     },
     "metadata": {},
     "output_type": "display_data"
    }
   ],
   "source": [
    "# On vérifie la volumétrie de notre dataframe\n",
    "df_cmed.shape"
   ]
  },
  {
   "cell_type": "markdown",
   "metadata": {},
   "source": [
    "# PARTIE 2 : Phase exploratoire des données <a class=\"anchor\" id=\"exp\"></a>"
   ]
  },
  {
   "cell_type": "markdown",
   "metadata": {},
   "source": [
    "#### ⭱ [Haut de page](#Sommaire) "
   ]
  },
  {
   "cell_type": "code",
   "execution_count": 183,
   "metadata": {},
   "outputs": [
    {
     "name": "stdout",
     "output_type": "stream",
     "text": [
      "<class 'pandas.core.frame.DataFrame'>\n",
      "RangeIndex: 1338 entries, 0 to 1337\n",
      "Data columns (total 7 columns):\n",
      " #   Column    Non-Null Count  Dtype  \n",
      "---  ------    --------------  -----  \n",
      " 0   age       1338 non-null   int64  \n",
      " 1   sex       1338 non-null   object \n",
      " 2   bmi       1338 non-null   float64\n",
      " 3   children  1338 non-null   int64  \n",
      " 4   smoker    1338 non-null   object \n",
      " 5   region    1338 non-null   object \n",
      " 6   charges   1338 non-null   float64\n",
      "dtypes: float64(2), int64(2), object(3)\n",
      "memory usage: 73.3+ KB\n"
     ]
    }
   ],
   "source": [
    "# Aperçu des informations, présence ou non d'éléments nulls, type de variables, mémoire...\n",
    "df_cmed.info()"
   ]
  },
  {
   "cell_type": "markdown",
   "metadata": {},
   "source": [
    "> <i class=\"fa fa-arrow-circle-right\" aria-hidden=\"true\"></i> **Observations**\n",
    "> <p style=\"color:#4caba9;\">Les colonnes sex, smoker et region sont catégorielles. <br>La colonne age est une variable integer, tout comme la colonne children (nombre d'enfants). <br>Les colonnes bmi (body mass index ou indice de masse corporelle) et charges (la colonne à prédire pour le coût de la couverture médicale).</p>"
   ]
  },
  {
   "cell_type": "markdown",
   "metadata": {},
   "source": [
    "> ## Valeurs manquantes"
   ]
  },
  {
   "cell_type": "code",
   "execution_count": 184,
   "metadata": {},
   "outputs": [
    {
     "data": {
      "text/plain": [
       "age         0\n",
       "sex         0\n",
       "bmi         0\n",
       "children    0\n",
       "smoker      0\n",
       "region      0\n",
       "charges     0\n",
       "dtype: int64"
      ]
     },
     "metadata": {},
     "output_type": "display_data"
    }
   ],
   "source": [
    "# Afficher les valeurs nulles\n",
    "df_cmed.isna().sum()"
   ]
  },
  {
   "cell_type": "markdown",
   "metadata": {},
   "source": [
    "> ## Vérification de l'absence de NaN cachés dans les colonnes string / object"
   ]
  },
  {
   "cell_type": "code",
   "execution_count": 185,
   "metadata": {},
   "outputs": [
    {
     "data": {
      "text/plain": [
       "2"
      ]
     },
     "metadata": {},
     "output_type": "display_data"
    }
   ],
   "source": [
    "# On vérifie le nombre de valeurs uniques dans la colonne sex : ici, male et female donc 2 !\n",
    "df_cmed.sex.nunique()"
   ]
  },
  {
   "cell_type": "code",
   "execution_count": 186,
   "metadata": {},
   "outputs": [
    {
     "data": {
      "text/plain": [
       "male      676\n",
       "female    662\n",
       "Name: sex, dtype: int64"
      ]
     },
     "metadata": {},
     "output_type": "display_data"
    }
   ],
   "source": [
    "# On vérifie le nombre de valeurs totales\n",
    "df_cmed.sex.value_counts()"
   ]
  },
  {
   "cell_type": "code",
   "execution_count": 187,
   "metadata": {},
   "outputs": [
    {
     "data": {
      "text/plain": [
       "2"
      ]
     },
     "metadata": {},
     "output_type": "display_data"
    }
   ],
   "source": [
    "# On vérifie le nombre de valeurs uniques dans la colonne smoker : ici, no et yes, donc 2 !\n",
    "df_cmed.smoker.nunique()"
   ]
  },
  {
   "cell_type": "code",
   "execution_count": 188,
   "metadata": {},
   "outputs": [
    {
     "data": {
      "text/plain": [
       "no     1064\n",
       "yes     274\n",
       "Name: smoker, dtype: int64"
      ]
     },
     "metadata": {},
     "output_type": "display_data"
    }
   ],
   "source": [
    "# On vérifie le nombre de valeurs totales\n",
    "df_cmed.smoker.value_counts()"
   ]
  },
  {
   "cell_type": "code",
   "execution_count": 189,
   "metadata": {},
   "outputs": [
    {
     "data": {
      "text/plain": [
       "4"
      ]
     },
     "metadata": {},
     "output_type": "display_data"
    }
   ],
   "source": [
    "# On vérifie le nombre de valeurs uniques dans la colonne region : \n",
    "# ici, southeast, northwest, southwest et northeast donc 4 !\n",
    "df_cmed.region.nunique()"
   ]
  },
  {
   "cell_type": "code",
   "execution_count": 190,
   "metadata": {},
   "outputs": [
    {
     "data": {
      "text/plain": [
       "southeast    364\n",
       "northwest    325\n",
       "southwest    325\n",
       "northeast    324\n",
       "Name: region, dtype: int64"
      ]
     },
     "metadata": {},
     "output_type": "display_data"
    }
   ],
   "source": [
    "# On vérifie le nombre de valeurs totales\n",
    "df_cmed.region.value_counts()"
   ]
  },
  {
   "cell_type": "markdown",
   "metadata": {},
   "source": [
    " > ## Statistiques descriptives"
   ]
  },
  {
   "cell_type": "code",
   "execution_count": 191,
   "metadata": {},
   "outputs": [
    {
     "data": {
      "text/html": [
       "<div>\n",
       "<style scoped>\n",
       "    .dataframe tbody tr th:only-of-type {\n",
       "        vertical-align: middle;\n",
       "    }\n",
       "\n",
       "    .dataframe tbody tr th {\n",
       "        vertical-align: top;\n",
       "    }\n",
       "\n",
       "    .dataframe thead th {\n",
       "        text-align: right;\n",
       "    }\n",
       "</style>\n",
       "<table border=\"1\" class=\"dataframe\">\n",
       "  <thead>\n",
       "    <tr style=\"text-align: right;\">\n",
       "      <th></th>\n",
       "      <th>age</th>\n",
       "      <th>bmi</th>\n",
       "      <th>children</th>\n",
       "      <th>charges</th>\n",
       "    </tr>\n",
       "  </thead>\n",
       "  <tbody>\n",
       "    <tr>\n",
       "      <th>count</th>\n",
       "      <td>1338.000000</td>\n",
       "      <td>1338.000000</td>\n",
       "      <td>1338.000000</td>\n",
       "      <td>1338.000000</td>\n",
       "    </tr>\n",
       "    <tr>\n",
       "      <th>mean</th>\n",
       "      <td>39.207025</td>\n",
       "      <td>30.663397</td>\n",
       "      <td>1.094918</td>\n",
       "      <td>13270.422265</td>\n",
       "    </tr>\n",
       "    <tr>\n",
       "      <th>std</th>\n",
       "      <td>14.049960</td>\n",
       "      <td>6.098187</td>\n",
       "      <td>1.205493</td>\n",
       "      <td>12110.011237</td>\n",
       "    </tr>\n",
       "    <tr>\n",
       "      <th>min</th>\n",
       "      <td>18.000000</td>\n",
       "      <td>15.960000</td>\n",
       "      <td>0.000000</td>\n",
       "      <td>1121.873900</td>\n",
       "    </tr>\n",
       "    <tr>\n",
       "      <th>25%</th>\n",
       "      <td>27.000000</td>\n",
       "      <td>26.296250</td>\n",
       "      <td>0.000000</td>\n",
       "      <td>4740.287150</td>\n",
       "    </tr>\n",
       "    <tr>\n",
       "      <th>50%</th>\n",
       "      <td>39.000000</td>\n",
       "      <td>30.400000</td>\n",
       "      <td>1.000000</td>\n",
       "      <td>9382.033000</td>\n",
       "    </tr>\n",
       "    <tr>\n",
       "      <th>75%</th>\n",
       "      <td>51.000000</td>\n",
       "      <td>34.693750</td>\n",
       "      <td>2.000000</td>\n",
       "      <td>16639.912515</td>\n",
       "    </tr>\n",
       "    <tr>\n",
       "      <th>max</th>\n",
       "      <td>64.000000</td>\n",
       "      <td>53.130000</td>\n",
       "      <td>5.000000</td>\n",
       "      <td>63770.428010</td>\n",
       "    </tr>\n",
       "  </tbody>\n",
       "</table>\n",
       "</div>"
      ]
     },
     "metadata": {},
     "output_type": "display_data"
    }
   ],
   "source": [
    "df_cmed.describe()"
   ]
  },
  {
   "cell_type": "markdown",
   "metadata": {},
   "source": [
    "> <i class=\"fa fa-arrow-circle-right\" aria-hidden=\"true\"></i> **Observations**\n",
    "> <p style=\"color:#4caba9;\">L'âge médian de l'échantillon étudié est de 39 ans, avec un minimum de 18 ans et un maximum de 64 ans. <br> Quant à l'indice de masse corporelle, il se situe en moyenne autour de 30.6 (classée comme de l'obésité). L'IMC minimum est de 15.96 (classée comme underweight) et le maximum est de 53.13 (classée comme de l'obésité morbide). <br> Le nombre d'enfants est en moyenne de 1. <br> Le coût de la couverture médicale (colonne charges) peut atteindre 63770 dollars mais il se situe plutôt autour d'une médiane de 9382 dollars.</p>"
   ]
  },
  {
   "cell_type": "markdown",
   "metadata": {},
   "source": [
    ">  <i class=\"fa fa-bar-chart fa-2x\" aria-hidden=\"true\"></i> \n",
    ">  ## Visualisation des valeurs corrélées"
   ]
  },
  {
   "cell_type": "code",
   "execution_count": 192,
   "metadata": {},
   "outputs": [
    {
     "data": {
      "image/png": "[encoded data removed]"
     },
     "metadata": {
      "image/png": {
       "height": 0,
       "width": 0
      }
     },
     "output_type": "display_data"
    }
   ],
   "source": [
    "# Pairplot pour avoir une première idée des relations possibles entre les données et leurs distributions\n",
    "\n",
    "sns.pairplot(df_cmed, kind='reg', diag_kind='kde');"
   ]
  },
  {
   "cell_type": "code",
   "execution_count": 193,
   "metadata": {},
   "outputs": [
    {
     "data": {
      "image/png": "[encoded data removed]"
     },
     "metadata": {
      "image/png": {
       "height": 0,
       "width": 0
      }
     },
     "output_type": "display_data"
    }
   ],
   "source": [
    "# Heatmap pour pouvoir identifier rapidement par code couleur les valeurs les plus corrélées\n",
    "\n",
    "cor = df_cmed.corr() \n",
    "\n",
    "plt.subplots(figsize=(12,10))\n",
    "sns.heatmap(cor, square = True, cmap=\"coolwarm\",linewidths=.5,annot=True );"
   ]
  },
  {
   "cell_type": "markdown",
   "metadata": {},
   "source": [
    "> <i class=\"fa fa-arrow-circle-right\" aria-hidden=\"true\"></i> **Observations**\n",
    "> <p style=\"color:#4caba9;\">Les graphiques ne permettent pas de mettre en avant des corrélations vis-à-vis des variables numériques. La question qui se pose désormais est la suivante : est-ce que les corrélations (positives ou négatives) ne seraient pas plutôt du côté des variables catégorielles ? Nous devons les encoder en numérique pour pouvoir les traiter. </p>"
   ]
  },
  {
   "cell_type": "markdown",
   "metadata": {},
   "source": [
    "\n",
    "> ## Encoder les variables catégorielles en variables numériques"
   ]
  },
  {
   "cell_type": "code",
   "execution_count": 194,
   "metadata": {},
   "outputs": [
    {
     "data": {
      "text/html": [
       "<div>\n",
       "<style scoped>\n",
       "    .dataframe tbody tr th:only-of-type {\n",
       "        vertical-align: middle;\n",
       "    }\n",
       "\n",
       "    .dataframe tbody tr th {\n",
       "        vertical-align: top;\n",
       "    }\n",
       "\n",
       "    .dataframe thead th {\n",
       "        text-align: right;\n",
       "    }\n",
       "</style>\n",
       "<table border=\"1\" class=\"dataframe\">\n",
       "  <thead>\n",
       "    <tr style=\"text-align: right;\">\n",
       "      <th></th>\n",
       "      <th>age</th>\n",
       "      <th>sex</th>\n",
       "      <th>bmi</th>\n",
       "      <th>children</th>\n",
       "      <th>smoker</th>\n",
       "      <th>region</th>\n",
       "      <th>charges</th>\n",
       "    </tr>\n",
       "  </thead>\n",
       "  <tbody>\n",
       "    <tr>\n",
       "      <th>0</th>\n",
       "      <td>19</td>\n",
       "      <td>0</td>\n",
       "      <td>27.900</td>\n",
       "      <td>0</td>\n",
       "      <td>1</td>\n",
       "      <td>3</td>\n",
       "      <td>16884.92400</td>\n",
       "    </tr>\n",
       "    <tr>\n",
       "      <th>1</th>\n",
       "      <td>18</td>\n",
       "      <td>1</td>\n",
       "      <td>33.770</td>\n",
       "      <td>1</td>\n",
       "      <td>0</td>\n",
       "      <td>2</td>\n",
       "      <td>1725.55230</td>\n",
       "    </tr>\n",
       "    <tr>\n",
       "      <th>2</th>\n",
       "      <td>28</td>\n",
       "      <td>1</td>\n",
       "      <td>33.000</td>\n",
       "      <td>3</td>\n",
       "      <td>0</td>\n",
       "      <td>2</td>\n",
       "      <td>4449.46200</td>\n",
       "    </tr>\n",
       "    <tr>\n",
       "      <th>3</th>\n",
       "      <td>33</td>\n",
       "      <td>1</td>\n",
       "      <td>22.705</td>\n",
       "      <td>0</td>\n",
       "      <td>0</td>\n",
       "      <td>1</td>\n",
       "      <td>21984.47061</td>\n",
       "    </tr>\n",
       "    <tr>\n",
       "      <th>4</th>\n",
       "      <td>32</td>\n",
       "      <td>1</td>\n",
       "      <td>28.880</td>\n",
       "      <td>0</td>\n",
       "      <td>0</td>\n",
       "      <td>1</td>\n",
       "      <td>3866.85520</td>\n",
       "    </tr>\n",
       "    <tr>\n",
       "      <th>5</th>\n",
       "      <td>31</td>\n",
       "      <td>0</td>\n",
       "      <td>25.740</td>\n",
       "      <td>0</td>\n",
       "      <td>0</td>\n",
       "      <td>2</td>\n",
       "      <td>3756.62160</td>\n",
       "    </tr>\n",
       "    <tr>\n",
       "      <th>6</th>\n",
       "      <td>46</td>\n",
       "      <td>0</td>\n",
       "      <td>33.440</td>\n",
       "      <td>1</td>\n",
       "      <td>0</td>\n",
       "      <td>2</td>\n",
       "      <td>8240.58960</td>\n",
       "    </tr>\n",
       "    <tr>\n",
       "      <th>7</th>\n",
       "      <td>37</td>\n",
       "      <td>0</td>\n",
       "      <td>27.740</td>\n",
       "      <td>3</td>\n",
       "      <td>0</td>\n",
       "      <td>1</td>\n",
       "      <td>7281.50560</td>\n",
       "    </tr>\n",
       "    <tr>\n",
       "      <th>8</th>\n",
       "      <td>37</td>\n",
       "      <td>1</td>\n",
       "      <td>29.830</td>\n",
       "      <td>2</td>\n",
       "      <td>0</td>\n",
       "      <td>0</td>\n",
       "      <td>6406.41070</td>\n",
       "    </tr>\n",
       "    <tr>\n",
       "      <th>9</th>\n",
       "      <td>60</td>\n",
       "      <td>0</td>\n",
       "      <td>25.840</td>\n",
       "      <td>0</td>\n",
       "      <td>0</td>\n",
       "      <td>1</td>\n",
       "      <td>28923.13692</td>\n",
       "    </tr>\n",
       "  </tbody>\n",
       "</table>\n",
       "</div>"
      ]
     },
     "metadata": {},
     "output_type": "display_data"
    }
   ],
   "source": [
    "# On affecte la fonction labelEncoder() à Encoder\n",
    "Encoder = LabelEncoder()\n",
    "# labelEncoder() va transformer / convertir les valeurs de la cible en chiffres (allant de 0 à n-1)\n",
    "\n",
    "# On affecte cette transformation à la colonne sex de la dataframe avec .fit_transform\n",
    "Encoder.fit_transform(df_cmed['sex'])\n",
    "# On associe cette transformation sur la colonne sex à la colonne sex de df_cmed\n",
    "# En résumé, on écrase l'ancienne version avec la nouvelle !\n",
    "df_cmed['sex']=Encoder.fit_transform(df_cmed['sex'])\n",
    "\n",
    "# On affecte cette transformation à la colonne smoker de la dataframe avec .fit_transform\n",
    "Encoder.fit_transform(df_cmed['smoker'])\n",
    "# On associe cette transformation sur la colonne smoker à la colonne sex de df_cmed\n",
    "# En résumé, on écrase l'ancienne version avec la nouvelle !\n",
    "df_cmed['smoker']=Encoder.fit_transform(df_cmed['smoker'])\n",
    "\n",
    "# On affecte cette transformation à la colonne region de la dataframe avec .fit_transform\n",
    "Encoder.fit_transform(df_cmed['region'])\n",
    "# On associe cette transformation sur la colonne region à la colonne sex de df_cmed\n",
    "# En résumé, on écrase l'ancienne version avec la nouvelle !\n",
    "df_cmed['region']=Encoder.fit_transform(df_cmed['region'])\n",
    "\n",
    "# On affiche les dix premières lignes de la dataframe une fois les modifications apportées\n",
    "df_cmed.head(10)"
   ]
  },
  {
   "cell_type": "markdown",
   "metadata": {},
   "source": [
    "> <i class=\"fa fa-arrow-circle-right\" aria-hidden=\"true\"></i> **Observations**\n",
    "> <p style=\"color:#4caba9;\">Pour la colonne sex : 0 correspond à female, 1 correspond à male. <br> Pour la colonne smoker : 0 correspond à yes, 1 correspond à no. <br> Pour la colonne region : 0 correspond à Northeast, 1 correspond à Northwest, 2 correspond à Southeast, 3 correspond à Southwest.</p>"
   ]
  },
  {
   "cell_type": "code",
   "execution_count": 195,
   "metadata": {},
   "outputs": [
    {
     "name": "stdout",
     "output_type": "stream",
     "text": [
      "<class 'pandas.core.frame.DataFrame'>\n",
      "RangeIndex: 1338 entries, 0 to 1337\n",
      "Data columns (total 7 columns):\n",
      " #   Column    Non-Null Count  Dtype  \n",
      "---  ------    --------------  -----  \n",
      " 0   age       1338 non-null   int64  \n",
      " 1   sex       1338 non-null   int64  \n",
      " 2   bmi       1338 non-null   float64\n",
      " 3   children  1338 non-null   int64  \n",
      " 4   smoker    1338 non-null   int64  \n",
      " 5   region    1338 non-null   int64  \n",
      " 6   charges   1338 non-null   float64\n",
      "dtypes: float64(2), int64(5)\n",
      "memory usage: 73.3 KB\n"
     ]
    }
   ],
   "source": [
    "# On effectue une petite vérification pour voir le Dtype des colonnes ! \n",
    "df_cmed.info()\n",
    "# Les colonnes sex, smoker et region sont devenues des integers !"
   ]
  },
  {
   "cell_type": "code",
   "execution_count": 196,
   "metadata": {},
   "outputs": [
    {
     "data": {
      "image/png": "[encoded data removed]"
     },
     "metadata": {
      "image/png": {
       "height": 0,
       "width": 0
      }
     },
     "output_type": "display_data"
    }
   ],
   "source": [
    "# Nous réalisons, exceptionnellement, une nouvelle heatmap pour voir s'il existe une différence avec la première !\n",
    "\n",
    "cor = df_cmed.corr() \n",
    "\n",
    "plt.subplots(figsize=(12,10))\n",
    "sns.heatmap(cor, square = True, cmap=\"coolwarm\",linewidths=.5,annot=True );"
   ]
  },
  {
   "cell_type": "markdown",
   "metadata": {},
   "source": [
    "> <i class=\"fa fa-arrow-circle-right\" aria-hidden=\"true\"></i> **Observations**\n",
    "> <p style=\"color:#4caba9;\">Une corrélation positive retient toute notre attention : celle de la colonne smoker avec charges (0.79) ! <br> C'est la seule colonne qui semble être corrélée avec une autre.</p>"
   ]
  },
  {
   "cell_type": "markdown",
   "metadata": {},
   "source": [
    "# PARTIE 3 : Division en sous-ensembles <a class=\"anchor\" id=\"div\"></a>"
   ]
  },
  {
   "cell_type": "markdown",
   "metadata": {},
   "source": [
    "#### ⭱ [Haut de page](#Sommaire) "
   ]
  },
  {
   "cell_type": "markdown",
   "metadata": {},
   "source": [
    "> ## Paramètres du train_test_split\n",
    "> <p> <li> random_state=0 <br> équivaut à ne pas régénérer l'aléatoire à chaque chargement du bloc, il suffit de le faire juste une fois). Le random_state sert à recevoir les mêmes valeurs sans devoir recharger le bloc à chaque fois. C'est comme si nous avions toujours le même générateur. On peut mettre dans random_state : int, RandomState, None.\n",
    "\n",
    "\n",
    "> <li> Stratify = y      <br> Ce paramètre effectue un fractionnement afin que la proportion de valeurs dans l'échantillon produit soit la même que la proportion de valeurs fournies au paramètre stratify.\n",
    "> \n",
    "\n",
    "\n",
    "> <li> shuffle= True     <br> mélanger des valeurs\n",
    "\n",
    "\n",
    "> \n",
    "> <li> train_size        <br> la volumétrie de notre set d'entraînement\n",
    "\n",
    "\n",
    "> \n",
    "> <li> test_size         <br> la volumétrie de notre set de test                                    \n",
    " </p> "
   ]
  },
  {
   "cell_type": "code",
   "execution_count": 197,
   "metadata": {},
   "outputs": [],
   "source": [
    "# Division en sous-ensembles Train et Test\n",
    "# Dans stratify, on précise les colonnes que l'on veut pour que tout soit bien équitablement réparti !\n",
    "train_set, test_set = train_test_split(df_cmed, test_size = 0.2, random_state = 0,\n",
    " stratify=df_cmed[['sex','smoker','region']])\n",
    " # Ici, les colonnes utilisées dans stratify sont sex, smoker et region !"
   ]
  },
  {
   "cell_type": "code",
   "execution_count": 198,
   "metadata": {},
   "outputs": [
    {
     "data": {
      "text/html": [
       "<div>\n",
       "<style scoped>\n",
       "    .dataframe tbody tr th:only-of-type {\n",
       "        vertical-align: middle;\n",
       "    }\n",
       "\n",
       "    .dataframe tbody tr th {\n",
       "        vertical-align: top;\n",
       "    }\n",
       "\n",
       "    .dataframe thead th {\n",
       "        text-align: right;\n",
       "    }\n",
       "</style>\n",
       "<table border=\"1\" class=\"dataframe\">\n",
       "  <thead>\n",
       "    <tr style=\"text-align: right;\">\n",
       "      <th></th>\n",
       "      <th>sex</th>\n",
       "      <th>count</th>\n",
       "      <th>percent</th>\n",
       "      <th>cumulative_count</th>\n",
       "      <th>cumulative_percent</th>\n",
       "    </tr>\n",
       "  </thead>\n",
       "  <tbody>\n",
       "    <tr>\n",
       "      <th>0</th>\n",
       "      <td>1</td>\n",
       "      <td>541</td>\n",
       "      <td>50.560748</td>\n",
       "      <td>541</td>\n",
       "      <td>50.560748</td>\n",
       "    </tr>\n",
       "    <tr>\n",
       "      <th>1</th>\n",
       "      <td>0</td>\n",
       "      <td>529</td>\n",
       "      <td>49.439252</td>\n",
       "      <td>1070</td>\n",
       "      <td>100.000000</td>\n",
       "    </tr>\n",
       "  </tbody>\n",
       "</table>\n",
       "</div>"
      ]
     },
     "metadata": {},
     "output_type": "display_data"
    }
   ],
   "source": [
    "# On observe ici la distribution (ou la fréquence) des variables de la colonne sex dans les sous-ensemble Train\n",
    "train_set.stb.freq(['sex'])"
   ]
  },
  {
   "cell_type": "code",
   "execution_count": 199,
   "metadata": {},
   "outputs": [
    {
     "data": {
      "text/html": [
       "<div>\n",
       "<style scoped>\n",
       "    .dataframe tbody tr th:only-of-type {\n",
       "        vertical-align: middle;\n",
       "    }\n",
       "\n",
       "    .dataframe tbody tr th {\n",
       "        vertical-align: top;\n",
       "    }\n",
       "\n",
       "    .dataframe thead th {\n",
       "        text-align: right;\n",
       "    }\n",
       "</style>\n",
       "<table border=\"1\" class=\"dataframe\">\n",
       "  <thead>\n",
       "    <tr style=\"text-align: right;\">\n",
       "      <th></th>\n",
       "      <th>sex</th>\n",
       "      <th>count</th>\n",
       "      <th>percent</th>\n",
       "      <th>cumulative_count</th>\n",
       "      <th>cumulative_percent</th>\n",
       "    </tr>\n",
       "  </thead>\n",
       "  <tbody>\n",
       "    <tr>\n",
       "      <th>0</th>\n",
       "      <td>1</td>\n",
       "      <td>135</td>\n",
       "      <td>50.373134</td>\n",
       "      <td>135</td>\n",
       "      <td>50.373134</td>\n",
       "    </tr>\n",
       "    <tr>\n",
       "      <th>1</th>\n",
       "      <td>0</td>\n",
       "      <td>133</td>\n",
       "      <td>49.626866</td>\n",
       "      <td>268</td>\n",
       "      <td>100.000000</td>\n",
       "    </tr>\n",
       "  </tbody>\n",
       "</table>\n",
       "</div>"
      ]
     },
     "metadata": {},
     "output_type": "display_data"
    }
   ],
   "source": [
    "# On observe ici la distribution (ou la fréquence) des variables de la colonne sex dans les sous-ensemble Test\n",
    "test_set.stb.freq(['sex'])"
   ]
  },
  {
   "cell_type": "code",
   "execution_count": 200,
   "metadata": {},
   "outputs": [
    {
     "data": {
      "text/html": [
       "<div>\n",
       "<style scoped>\n",
       "    .dataframe tbody tr th:only-of-type {\n",
       "        vertical-align: middle;\n",
       "    }\n",
       "\n",
       "    .dataframe tbody tr th {\n",
       "        vertical-align: top;\n",
       "    }\n",
       "\n",
       "    .dataframe thead th {\n",
       "        text-align: right;\n",
       "    }\n",
       "</style>\n",
       "<table border=\"1\" class=\"dataframe\">\n",
       "  <thead>\n",
       "    <tr style=\"text-align: right;\">\n",
       "      <th></th>\n",
       "      <th>smoker</th>\n",
       "      <th>count</th>\n",
       "      <th>percent</th>\n",
       "      <th>cumulative_count</th>\n",
       "      <th>cumulative_percent</th>\n",
       "    </tr>\n",
       "  </thead>\n",
       "  <tbody>\n",
       "    <tr>\n",
       "      <th>0</th>\n",
       "      <td>0</td>\n",
       "      <td>851</td>\n",
       "      <td>79.53271</td>\n",
       "      <td>851</td>\n",
       "      <td>79.53271</td>\n",
       "    </tr>\n",
       "    <tr>\n",
       "      <th>1</th>\n",
       "      <td>1</td>\n",
       "      <td>219</td>\n",
       "      <td>20.46729</td>\n",
       "      <td>1070</td>\n",
       "      <td>100.00000</td>\n",
       "    </tr>\n",
       "  </tbody>\n",
       "</table>\n",
       "</div>"
      ]
     },
     "metadata": {},
     "output_type": "display_data"
    }
   ],
   "source": [
    "# On observe ici la distribution (ou la fréquence) des variables de la colonne smoker dans les sous-ensemble Train\n",
    "train_set.stb.freq(['smoker'])"
   ]
  },
  {
   "cell_type": "code",
   "execution_count": 201,
   "metadata": {},
   "outputs": [
    {
     "data": {
      "text/html": [
       "<div>\n",
       "<style scoped>\n",
       "    .dataframe tbody tr th:only-of-type {\n",
       "        vertical-align: middle;\n",
       "    }\n",
       "\n",
       "    .dataframe tbody tr th {\n",
       "        vertical-align: top;\n",
       "    }\n",
       "\n",
       "    .dataframe thead th {\n",
       "        text-align: right;\n",
       "    }\n",
       "</style>\n",
       "<table border=\"1\" class=\"dataframe\">\n",
       "  <thead>\n",
       "    <tr style=\"text-align: right;\">\n",
       "      <th></th>\n",
       "      <th>smoker</th>\n",
       "      <th>count</th>\n",
       "      <th>percent</th>\n",
       "      <th>cumulative_count</th>\n",
       "      <th>cumulative_percent</th>\n",
       "    </tr>\n",
       "  </thead>\n",
       "  <tbody>\n",
       "    <tr>\n",
       "      <th>0</th>\n",
       "      <td>0</td>\n",
       "      <td>213</td>\n",
       "      <td>79.477612</td>\n",
       "      <td>213</td>\n",
       "      <td>79.477612</td>\n",
       "    </tr>\n",
       "    <tr>\n",
       "      <th>1</th>\n",
       "      <td>1</td>\n",
       "      <td>55</td>\n",
       "      <td>20.522388</td>\n",
       "      <td>268</td>\n",
       "      <td>100.000000</td>\n",
       "    </tr>\n",
       "  </tbody>\n",
       "</table>\n",
       "</div>"
      ]
     },
     "metadata": {},
     "output_type": "display_data"
    }
   ],
   "source": [
    "# On observe ici la distribution (ou la fréquence) des variables de la colonne smoker dans les sous-ensemble Test\n",
    "test_set.stb.freq(['smoker'])"
   ]
  },
  {
   "cell_type": "code",
   "execution_count": 202,
   "metadata": {},
   "outputs": [
    {
     "data": {
      "text/html": [
       "<div>\n",
       "<style scoped>\n",
       "    .dataframe tbody tr th:only-of-type {\n",
       "        vertical-align: middle;\n",
       "    }\n",
       "\n",
       "    .dataframe tbody tr th {\n",
       "        vertical-align: top;\n",
       "    }\n",
       "\n",
       "    .dataframe thead th {\n",
       "        text-align: right;\n",
       "    }\n",
       "</style>\n",
       "<table border=\"1\" class=\"dataframe\">\n",
       "  <thead>\n",
       "    <tr style=\"text-align: right;\">\n",
       "      <th></th>\n",
       "      <th>region</th>\n",
       "      <th>count</th>\n",
       "      <th>percent</th>\n",
       "      <th>cumulative_count</th>\n",
       "      <th>cumulative_percent</th>\n",
       "    </tr>\n",
       "  </thead>\n",
       "  <tbody>\n",
       "    <tr>\n",
       "      <th>0</th>\n",
       "      <td>2</td>\n",
       "      <td>291</td>\n",
       "      <td>27.196262</td>\n",
       "      <td>291</td>\n",
       "      <td>27.196262</td>\n",
       "    </tr>\n",
       "    <tr>\n",
       "      <th>1</th>\n",
       "      <td>3</td>\n",
       "      <td>261</td>\n",
       "      <td>24.392523</td>\n",
       "      <td>552</td>\n",
       "      <td>51.588785</td>\n",
       "    </tr>\n",
       "    <tr>\n",
       "      <th>2</th>\n",
       "      <td>1</td>\n",
       "      <td>260</td>\n",
       "      <td>24.299065</td>\n",
       "      <td>812</td>\n",
       "      <td>75.887850</td>\n",
       "    </tr>\n",
       "    <tr>\n",
       "      <th>3</th>\n",
       "      <td>0</td>\n",
       "      <td>258</td>\n",
       "      <td>24.112150</td>\n",
       "      <td>1070</td>\n",
       "      <td>100.000000</td>\n",
       "    </tr>\n",
       "  </tbody>\n",
       "</table>\n",
       "</div>"
      ]
     },
     "metadata": {},
     "output_type": "display_data"
    }
   ],
   "source": [
    "# On observe ici la distribution (ou la fréquence) des variables de la colonne region dans les sous-ensemble Train\n",
    "train_set.stb.freq(['region'])"
   ]
  },
  {
   "cell_type": "code",
   "execution_count": 203,
   "metadata": {},
   "outputs": [
    {
     "data": {
      "text/html": [
       "<div>\n",
       "<style scoped>\n",
       "    .dataframe tbody tr th:only-of-type {\n",
       "        vertical-align: middle;\n",
       "    }\n",
       "\n",
       "    .dataframe tbody tr th {\n",
       "        vertical-align: top;\n",
       "    }\n",
       "\n",
       "    .dataframe thead th {\n",
       "        text-align: right;\n",
       "    }\n",
       "</style>\n",
       "<table border=\"1\" class=\"dataframe\">\n",
       "  <thead>\n",
       "    <tr style=\"text-align: right;\">\n",
       "      <th></th>\n",
       "      <th>region</th>\n",
       "      <th>count</th>\n",
       "      <th>percent</th>\n",
       "      <th>cumulative_count</th>\n",
       "      <th>cumulative_percent</th>\n",
       "    </tr>\n",
       "  </thead>\n",
       "  <tbody>\n",
       "    <tr>\n",
       "      <th>0</th>\n",
       "      <td>2</td>\n",
       "      <td>73</td>\n",
       "      <td>27.238806</td>\n",
       "      <td>73</td>\n",
       "      <td>27.238806</td>\n",
       "    </tr>\n",
       "    <tr>\n",
       "      <th>1</th>\n",
       "      <td>0</td>\n",
       "      <td>66</td>\n",
       "      <td>24.626866</td>\n",
       "      <td>139</td>\n",
       "      <td>51.865672</td>\n",
       "    </tr>\n",
       "    <tr>\n",
       "      <th>2</th>\n",
       "      <td>1</td>\n",
       "      <td>65</td>\n",
       "      <td>24.253731</td>\n",
       "      <td>204</td>\n",
       "      <td>76.119403</td>\n",
       "    </tr>\n",
       "    <tr>\n",
       "      <th>3</th>\n",
       "      <td>3</td>\n",
       "      <td>64</td>\n",
       "      <td>23.880597</td>\n",
       "      <td>268</td>\n",
       "      <td>100.000000</td>\n",
       "    </tr>\n",
       "  </tbody>\n",
       "</table>\n",
       "</div>"
      ]
     },
     "metadata": {},
     "output_type": "display_data"
    }
   ],
   "source": [
    "# On observe ici la distribution (ou la fréquence) des variables de la colonne region dans les sous-ensemble Test\n",
    "test_set.stb.freq(['region'])"
   ]
  },
  {
   "cell_type": "code",
   "execution_count": 204,
   "metadata": {},
   "outputs": [],
   "source": [
    "# On divise une dernière fois notre dataframe, pour répartir au plus équitablement les variables dans X_train, y_train,\n",
    "# X_test et y_test.\n",
    "X_train = train_set.iloc[:,:-1] # On récupère les features (age, sex, bmi, children, smoker et region )\n",
    "X_test = test_set.iloc[:,:-1] # On récupère les features (age, sex, bmi, children, smoker et region )\n",
    "y_train = train_set['charges'] # On récupère la target (charges)\n",
    "y_test = test_set['charges'] # On récupère la target (charges)"
   ]
  },
  {
   "cell_type": "markdown",
   "metadata": {},
   "source": [
    "# PARTIE 4 : La Régression linéaire multiple <a class=\"anchor\" id=\"model\"></a>"
   ]
  },
  {
   "cell_type": "markdown",
   "metadata": {},
   "source": [
    "#### ⭱ [Haut de page](#Sommaire) "
   ]
  },
  {
   "cell_type": "markdown",
   "metadata": {},
   "source": [
    "## Construction du modèle :  La Backward Elimination"
   ]
  },
  {
   "cell_type": "markdown",
   "metadata": {},
   "source": [
    "> <i class=\"fa fa-arrow-circle-right\" aria-hidden=\"true\"></i> **Que retenir ?**\n",
    "> <p style=\"color:#4caba9;\"> Nous devons observer la p-value et enlever les prédicteurs un par un jusqu'à obtenir une p-value inférieure ou proche de 0.05, sans perdre en performance.</p>"
   ]
  },
  {
   "cell_type": "code",
   "execution_count": 205,
   "metadata": {},
   "outputs": [],
   "source": [
    "# Etape 1 : on choisit le seuil de significativité à 5% (0.05)."
   ]
  },
  {
   "cell_type": "code",
   "execution_count": 328,
   "metadata": {},
   "outputs": [],
   "source": [
    "# Etape 2 : on construit le modèle de régression linéaire multiple\n",
    "# Division de notre jeu de données en sous-ensembles\n",
    "# 80% pour l'un (train), 20% pour l'autre (test)\n",
    "\n",
    "# Cette étape 2 a déjà été réalisée préalablement !"
   ]
  },
  {
   "cell_type": "code",
   "execution_count": 207,
   "metadata": {},
   "outputs": [],
   "source": [
    "# Application de la Régression linéaire avec toutes les features / prédicteurs\n",
    "\n",
    "model = linear_model.LinearRegression() # On initialise le modèle de la régression linéaire"
   ]
  },
  {
   "cell_type": "code",
   "execution_count": 208,
   "metadata": {},
   "outputs": [
    {
     "data": {
      "text/plain": [
       "LinearRegression()"
      ]
     },
     "metadata": {},
     "output_type": "display_data"
    }
   ],
   "source": [
    "# On ajuste le modèle avec les features d'entraînement (x_train)\n",
    "# et la target d'entraînement (y_train)\n",
    "\n",
    "model.fit(X_train,y_train) "
   ]
  },
  {
   "cell_type": "markdown",
   "metadata": {},
   "source": [
    "> ## Utilisation de la méthode des moindres carrés MCO (OLS en anglais)"
   ]
  },
  {
   "cell_type": "code",
   "execution_count": 209,
   "metadata": {},
   "outputs": [
    {
     "data": {
      "text/html": [
       "<table class=\"simpletable\">\n",
       "<caption>OLS Regression Results</caption>\n",
       "<tr>\n",
       "  <th>Dep. Variable:</th>         <td>charges</td>     <th>  R-squared:         </th> <td>   0.734</td> \n",
       "</tr>\n",
       "<tr>\n",
       "  <th>Model:</th>                   <td>OLS</td>       <th>  Adj. R-squared:    </th> <td>   0.732</td> \n",
       "</tr>\n",
       "<tr>\n",
       "  <th>Method:</th>             <td>Least Squares</td>  <th>  F-statistic:       </th> <td>   488.4</td> \n",
       "</tr>\n",
       "<tr>\n",
       "  <th>Date:</th>             <td>Tue, 26 Jan 2021</td> <th>  Prob (F-statistic):</th> <td>2.33e-301</td>\n",
       "</tr>\n",
       "<tr>\n",
       "  <th>Time:</th>                 <td>13:27:51</td>     <th>  Log-Likelihood:    </th> <td> -10856.</td> \n",
       "</tr>\n",
       "<tr>\n",
       "  <th>No. Observations:</th>      <td>  1070</td>      <th>  AIC:               </th> <td>2.173e+04</td>\n",
       "</tr>\n",
       "<tr>\n",
       "  <th>Df Residuals:</th>          <td>  1063</td>      <th>  BIC:               </th> <td>2.176e+04</td>\n",
       "</tr>\n",
       "<tr>\n",
       "  <th>Df Model:</th>              <td>     6</td>      <th>                     </th>     <td> </td>    \n",
       "</tr>\n",
       "<tr>\n",
       "  <th>Covariance Type:</th>      <td>nonrobust</td>    <th>                     </th>     <td> </td>    \n",
       "</tr>\n",
       "</table>\n",
       "<table class=\"simpletable\">\n",
       "<tr>\n",
       "      <td></td>         <th>coef</th>     <th>std err</th>      <th>t</th>      <th>P>|t|</th>  <th>[0.025</th>    <th>0.975]</th>  \n",
       "</tr>\n",
       "<tr>\n",
       "  <th>Intercept</th> <td>-1.114e+04</td> <td> 1069.512</td> <td>  -10.417</td> <td> 0.000</td> <td>-1.32e+04</td> <td>-9042.475</td>\n",
       "</tr>\n",
       "<tr>\n",
       "  <th>age</th>       <td>  257.9582</td> <td>   13.576</td> <td>   19.001</td> <td> 0.000</td> <td>  231.319</td> <td>  284.598</td>\n",
       "</tr>\n",
       "<tr>\n",
       "  <th>sex</th>       <td> -220.5424</td> <td>  380.116</td> <td>   -0.580</td> <td> 0.562</td> <td> -966.405</td> <td>  525.320</td>\n",
       "</tr>\n",
       "<tr>\n",
       "  <th>bmi</th>       <td>  317.2375</td> <td>   31.396</td> <td>   10.104</td> <td> 0.000</td> <td>  255.633</td> <td>  378.842</td>\n",
       "</tr>\n",
       "<tr>\n",
       "  <th>children</th>  <td>  382.7752</td> <td>  159.145</td> <td>    2.405</td> <td> 0.016</td> <td>   70.501</td> <td>  695.050</td>\n",
       "</tr>\n",
       "<tr>\n",
       "  <th>smoker</th>    <td> 2.331e+04</td> <td>  470.553</td> <td>   49.539</td> <td> 0.000</td> <td> 2.24e+04</td> <td> 2.42e+04</td>\n",
       "</tr>\n",
       "<tr>\n",
       "  <th>region</th>    <td> -319.0095</td> <td>  173.609</td> <td>   -1.838</td> <td> 0.066</td> <td> -659.665</td> <td>   21.646</td>\n",
       "</tr>\n",
       "</table>\n",
       "<table class=\"simpletable\">\n",
       "<tr>\n",
       "  <th>Omnibus:</th>       <td>242.275</td> <th>  Durbin-Watson:     </th> <td>   1.978</td> \n",
       "</tr>\n",
       "<tr>\n",
       "  <th>Prob(Omnibus):</th> <td> 0.000</td>  <th>  Jarque-Bera (JB):  </th> <td> 536.678</td> \n",
       "</tr>\n",
       "<tr>\n",
       "  <th>Skew:</th>          <td> 1.247</td>  <th>  Prob(JB):          </th> <td>2.90e-117</td>\n",
       "</tr>\n",
       "<tr>\n",
       "  <th>Kurtosis:</th>      <td> 5.413</td>  <th>  Cond. No.          </th> <td>    292.</td> \n",
       "</tr>\n",
       "</table><br/><br/>Notes:<br/>[1] Standard Errors assume that the covariance matrix of the errors is correctly specified."
      ]
     },
     "metadata": {},
     "output_type": "display_data"
    }
   ],
   "source": [
    "# Etape 3: les moindres carrés\n",
    "# Vérification de la p-value et du R² \n",
    "\n",
    "# On utilise statsmodels.formula.api pour obtenir les moindres carrés !\n",
    "# Dans le premier modèle, nous avons toutes les features\n",
    "# Par contre, nous utilisons les données d'entraînement avec train_set !\n",
    "regressor = smf.ols('charges~age+sex+bmi+children+smoker+region', data=train_set).fit() # On applique la méthode des moindres carrés\n",
    "regressor.summary() # On affiche en sortie les résultats"
   ]
  },
  {
   "cell_type": "markdown",
   "metadata": {},
   "source": [
    "<i class=\"fa fa-arrow-circle-right\" aria-hidden=\"true\"></i> **Interprétations**\n",
    "> <p style=\"color:#4caba9;\"> La p-value la plus haute est le sex à 56% (0.56) : elle est au-dessus de la SL. <br> Le R² ajusté est à 73%.\n",
    "</p>"
   ]
  },
  {
   "cell_type": "code",
   "execution_count": 210,
   "metadata": {},
   "outputs": [
    {
     "data": {
      "text/html": [
       "<table class=\"simpletable\">\n",
       "<caption>OLS Regression Results</caption>\n",
       "<tr>\n",
       "  <th>Dep. Variable:</th>         <td>charges</td>     <th>  R-squared:         </th> <td>   0.751</td> \n",
       "</tr>\n",
       "<tr>\n",
       "  <th>Model:</th>                   <td>OLS</td>       <th>  Adj. R-squared:    </th> <td>   0.750</td> \n",
       "</tr>\n",
       "<tr>\n",
       "  <th>Method:</th>             <td>Least Squares</td>  <th>  F-statistic:       </th> <td>   668.1</td> \n",
       "</tr>\n",
       "<tr>\n",
       "  <th>Date:</th>             <td>Tue, 26 Jan 2021</td> <th>  Prob (F-statistic):</th>  <td>  0.00</td>  \n",
       "</tr>\n",
       "<tr>\n",
       "  <th>Time:</th>                 <td>13:27:52</td>     <th>  Log-Likelihood:    </th> <td> -13548.</td> \n",
       "</tr>\n",
       "<tr>\n",
       "  <th>No. Observations:</th>      <td>  1338</td>      <th>  AIC:               </th> <td>2.711e+04</td>\n",
       "</tr>\n",
       "<tr>\n",
       "  <th>Df Residuals:</th>          <td>  1331</td>      <th>  BIC:               </th> <td>2.715e+04</td>\n",
       "</tr>\n",
       "<tr>\n",
       "  <th>Df Model:</th>              <td>     6</td>      <th>                     </th>     <td> </td>    \n",
       "</tr>\n",
       "<tr>\n",
       "  <th>Covariance Type:</th>      <td>nonrobust</td>    <th>                     </th>     <td> </td>    \n",
       "</tr>\n",
       "</table>\n",
       "<table class=\"simpletable\">\n",
       "<tr>\n",
       "      <td></td>         <th>coef</th>     <th>std err</th>      <th>t</th>      <th>P>|t|</th>  <th>[0.025</th>    <th>0.975]</th>  \n",
       "</tr>\n",
       "<tr>\n",
       "  <th>Intercept</th> <td>-1.182e+04</td> <td>  955.130</td> <td>  -12.371</td> <td> 0.000</td> <td>-1.37e+04</td> <td>-9941.729</td>\n",
       "</tr>\n",
       "<tr>\n",
       "  <th>age</th>       <td>  257.2881</td> <td>   11.886</td> <td>   21.647</td> <td> 0.000</td> <td>  233.971</td> <td>  280.605</td>\n",
       "</tr>\n",
       "<tr>\n",
       "  <th>sex</th>       <td> -131.1106</td> <td>  332.811</td> <td>   -0.394</td> <td> 0.694</td> <td> -784.001</td> <td>  521.780</td>\n",
       "</tr>\n",
       "<tr>\n",
       "  <th>bmi</th>       <td>  332.5701</td> <td>   27.722</td> <td>   11.997</td> <td> 0.000</td> <td>  278.186</td> <td>  386.954</td>\n",
       "</tr>\n",
       "<tr>\n",
       "  <th>children</th>  <td>  479.3694</td> <td>  137.644</td> <td>    3.483</td> <td> 0.001</td> <td>  209.346</td> <td>  749.393</td>\n",
       "</tr>\n",
       "<tr>\n",
       "  <th>smoker</th>    <td> 2.382e+04</td> <td>  411.843</td> <td>   57.839</td> <td> 0.000</td> <td>  2.3e+04</td> <td> 2.46e+04</td>\n",
       "</tr>\n",
       "<tr>\n",
       "  <th>region</th>    <td> -353.6400</td> <td>  151.927</td> <td>   -2.328</td> <td> 0.020</td> <td> -651.682</td> <td>  -55.598</td>\n",
       "</tr>\n",
       "</table>\n",
       "<table class=\"simpletable\">\n",
       "<tr>\n",
       "  <th>Omnibus:</th>       <td>299.003</td> <th>  Durbin-Watson:     </th> <td>   2.088</td> \n",
       "</tr>\n",
       "<tr>\n",
       "  <th>Prob(Omnibus):</th> <td> 0.000</td>  <th>  Jarque-Bera (JB):  </th> <td> 713.975</td> \n",
       "</tr>\n",
       "<tr>\n",
       "  <th>Skew:</th>          <td> 1.207</td>  <th>  Prob(JB):          </th> <td>9.17e-156</td>\n",
       "</tr>\n",
       "<tr>\n",
       "  <th>Kurtosis:</th>      <td> 5.642</td>  <th>  Cond. No.          </th> <td>    296.</td> \n",
       "</tr>\n",
       "</table><br/><br/>Notes:<br/>[1] Standard Errors assume that the covariance matrix of the errors is correctly specified."
      ]
     },
     "metadata": {},
     "output_type": "display_data"
    }
   ],
   "source": [
    "# Dans le deuxième modèle nous utilisons cette fois l'ensemble des données avec la dataframe df_cmed\n",
    "\n",
    "regressor = smf.ols('charges~age+sex+bmi+children+smoker+region', data=df_cmed).fit() # On applique la méthode des moindres carrés\n",
    "regressor.summary() # On affiche en sortie les résultats"
   ]
  },
  {
   "cell_type": "markdown",
   "metadata": {},
   "source": [
    "<i class=\"fa fa-arrow-circle-right\" aria-hidden=\"true\"></i> **Interprétations**\n",
    "> <p style=\"color:#4caba9;\"> La p-value la plus haute est toujours le sex 69% (0.69) : elle est au-dessus de la SL. <br> Elle est retirée du prochain modèle. Le R² ajusté est à 75%.\n",
    "> Nous allons partir pour les prochains modèles sur l'ensemble des données (df_cmed).\n",
    "</p>"
   ]
  },
  {
   "cell_type": "code",
   "execution_count": 212,
   "metadata": {},
   "outputs": [
    {
     "data": {
      "text/html": [
       "<table class=\"simpletable\">\n",
       "<caption>OLS Regression Results</caption>\n",
       "<tr>\n",
       "  <th>Dep. Variable:</th>         <td>charges</td>     <th>  R-squared:         </th> <td>   0.751</td> \n",
       "</tr>\n",
       "<tr>\n",
       "  <th>Model:</th>                   <td>OLS</td>       <th>  Adj. R-squared:    </th> <td>   0.750</td> \n",
       "</tr>\n",
       "<tr>\n",
       "  <th>Method:</th>             <td>Least Squares</td>  <th>  F-statistic:       </th> <td>   802.2</td> \n",
       "</tr>\n",
       "<tr>\n",
       "  <th>Date:</th>             <td>Tue, 26 Jan 2021</td> <th>  Prob (F-statistic):</th>  <td>  0.00</td>  \n",
       "</tr>\n",
       "<tr>\n",
       "  <th>Time:</th>                 <td>13:27:52</td>     <th>  Log-Likelihood:    </th> <td> -13548.</td> \n",
       "</tr>\n",
       "<tr>\n",
       "  <th>No. Observations:</th>      <td>  1338</td>      <th>  AIC:               </th> <td>2.711e+04</td>\n",
       "</tr>\n",
       "<tr>\n",
       "  <th>Df Residuals:</th>          <td>  1332</td>      <th>  BIC:               </th> <td>2.714e+04</td>\n",
       "</tr>\n",
       "<tr>\n",
       "  <th>Df Model:</th>              <td>     5</td>      <th>                     </th>     <td> </td>    \n",
       "</tr>\n",
       "<tr>\n",
       "  <th>Covariance Type:</th>      <td>nonrobust</td>    <th>                     </th>     <td> </td>    \n",
       "</tr>\n",
       "</table>\n",
       "<table class=\"simpletable\">\n",
       "<tr>\n",
       "      <td></td>         <th>coef</th>     <th>std err</th>      <th>t</th>      <th>P>|t|</th>  <th>[0.025</th>    <th>0.975]</th>  \n",
       "</tr>\n",
       "<tr>\n",
       "  <th>Intercept</th> <td>-1.187e+04</td> <td>  945.876</td> <td>  -12.546</td> <td> 0.000</td> <td>-1.37e+04</td> <td>   -1e+04</td>\n",
       "</tr>\n",
       "<tr>\n",
       "  <th>age</th>       <td>  257.4050</td> <td>   11.878</td> <td>   21.670</td> <td> 0.000</td> <td>  234.103</td> <td>  280.707</td>\n",
       "</tr>\n",
       "<tr>\n",
       "  <th>bmi</th>       <td>  332.0420</td> <td>   27.681</td> <td>   11.995</td> <td> 0.000</td> <td>  277.739</td> <td>  386.345</td>\n",
       "</tr>\n",
       "<tr>\n",
       "  <th>children</th>  <td>  478.4405</td> <td>  137.580</td> <td>    3.478</td> <td> 0.001</td> <td>  208.543</td> <td>  748.338</td>\n",
       "</tr>\n",
       "<tr>\n",
       "  <th>smoker</th>    <td> 2.381e+04</td> <td>  410.543</td> <td>   57.992</td> <td> 0.000</td> <td>  2.3e+04</td> <td> 2.46e+04</td>\n",
       "</tr>\n",
       "<tr>\n",
       "  <th>region</th>    <td> -353.4491</td> <td>  151.878</td> <td>   -2.327</td> <td> 0.020</td> <td> -651.395</td> <td>  -55.504</td>\n",
       "</tr>\n",
       "</table>\n",
       "<table class=\"simpletable\">\n",
       "<tr>\n",
       "  <th>Omnibus:</th>       <td>299.380</td> <th>  Durbin-Watson:     </th> <td>   2.088</td> \n",
       "</tr>\n",
       "<tr>\n",
       "  <th>Prob(Omnibus):</th> <td> 0.000</td>  <th>  Jarque-Bera (JB):  </th> <td> 715.644</td> \n",
       "</tr>\n",
       "<tr>\n",
       "  <th>Skew:</th>          <td> 1.208</td>  <th>  Prob(JB):          </th> <td>3.98e-156</td>\n",
       "</tr>\n",
       "<tr>\n",
       "  <th>Kurtosis:</th>      <td> 5.646</td>  <th>  Cond. No.          </th> <td>    293.</td> \n",
       "</tr>\n",
       "</table><br/><br/>Notes:<br/>[1] Standard Errors assume that the covariance matrix of the errors is correctly specified."
      ]
     },
     "metadata": {},
     "output_type": "display_data"
    }
   ],
   "source": [
    "# Dans le troisième modèle nous avons une feature de moins (le sex)\n",
    "regressor = smf.ols('charges~age+bmi+children+smoker+region', data=df_cmed).fit() # On applique la méthode des moindres carrés\n",
    "regressor.summary() # On affiche en sortie les résultats"
   ]
  },
  {
   "cell_type": "markdown",
   "metadata": {},
   "source": [
    "<i class=\"fa fa-arrow-circle-right\" aria-hidden=\"true\"></i> **Interprétations**\n",
    "> <p style=\"color:#4caba9;\"> Il n'y a plus de p-value au-dessus de notre seuil de significativité. Nous pourrions nous arrêter à ce modèle. Tout au plus, la p-value la plus haute est la region avec 2% (0.02). <br>Le R² ajusté est à 75%.\n",
    "</p>"
   ]
  },
  {
   "cell_type": "code",
   "execution_count": 214,
   "metadata": {},
   "outputs": [
    {
     "data": {
      "text/html": [
       "<table class=\"simpletable\">\n",
       "<caption>OLS Regression Results</caption>\n",
       "<tr>\n",
       "  <th>Dep. Variable:</th>         <td>charges</td>     <th>  R-squared:         </th> <td>   0.750</td> \n",
       "</tr>\n",
       "<tr>\n",
       "  <th>Model:</th>                   <td>OLS</td>       <th>  Adj. R-squared:    </th> <td>   0.749</td> \n",
       "</tr>\n",
       "<tr>\n",
       "  <th>Method:</th>             <td>Least Squares</td>  <th>  F-statistic:       </th> <td>   998.1</td> \n",
       "</tr>\n",
       "<tr>\n",
       "  <th>Date:</th>             <td>Tue, 26 Jan 2021</td> <th>  Prob (F-statistic):</th>  <td>  0.00</td>  \n",
       "</tr>\n",
       "<tr>\n",
       "  <th>Time:</th>                 <td>13:27:53</td>     <th>  Log-Likelihood:    </th> <td> -13551.</td> \n",
       "</tr>\n",
       "<tr>\n",
       "  <th>No. Observations:</th>      <td>  1338</td>      <th>  AIC:               </th> <td>2.711e+04</td>\n",
       "</tr>\n",
       "<tr>\n",
       "  <th>Df Residuals:</th>          <td>  1333</td>      <th>  BIC:               </th> <td>2.714e+04</td>\n",
       "</tr>\n",
       "<tr>\n",
       "  <th>Df Model:</th>              <td>     4</td>      <th>                     </th>     <td> </td>    \n",
       "</tr>\n",
       "<tr>\n",
       "  <th>Covariance Type:</th>      <td>nonrobust</td>    <th>                     </th>     <td> </td>    \n",
       "</tr>\n",
       "</table>\n",
       "<table class=\"simpletable\">\n",
       "<tr>\n",
       "      <td></td>         <th>coef</th>     <th>std err</th>      <th>t</th>      <th>P>|t|</th>  <th>[0.025</th>    <th>0.975]</th>  \n",
       "</tr>\n",
       "<tr>\n",
       "  <th>Intercept</th> <td> -1.21e+04</td> <td>  941.984</td> <td>  -12.848</td> <td> 0.000</td> <td> -1.4e+04</td> <td>-1.03e+04</td>\n",
       "</tr>\n",
       "<tr>\n",
       "  <th>age</th>       <td>  257.8495</td> <td>   11.896</td> <td>   21.675</td> <td> 0.000</td> <td>  234.512</td> <td>  281.187</td>\n",
       "</tr>\n",
       "<tr>\n",
       "  <th>bmi</th>       <td>  321.8514</td> <td>   27.378</td> <td>   11.756</td> <td> 0.000</td> <td>  268.143</td> <td>  375.559</td>\n",
       "</tr>\n",
       "<tr>\n",
       "  <th>children</th>  <td>  473.5023</td> <td>  137.792</td> <td>    3.436</td> <td> 0.001</td> <td>  203.190</td> <td>  743.814</td>\n",
       "</tr>\n",
       "<tr>\n",
       "  <th>smoker</th>    <td> 2.381e+04</td> <td>  411.220</td> <td>   57.904</td> <td> 0.000</td> <td>  2.3e+04</td> <td> 2.46e+04</td>\n",
       "</tr>\n",
       "</table>\n",
       "<table class=\"simpletable\">\n",
       "<tr>\n",
       "  <th>Omnibus:</th>       <td>301.480</td> <th>  Durbin-Watson:     </th> <td>   2.087</td> \n",
       "</tr>\n",
       "<tr>\n",
       "  <th>Prob(Omnibus):</th> <td> 0.000</td>  <th>  Jarque-Bera (JB):  </th> <td> 722.157</td> \n",
       "</tr>\n",
       "<tr>\n",
       "  <th>Skew:</th>          <td> 1.215</td>  <th>  Prob(JB):          </th> <td>1.53e-157</td>\n",
       "</tr>\n",
       "<tr>\n",
       "  <th>Kurtosis:</th>      <td> 5.654</td>  <th>  Cond. No.          </th> <td>    292.</td> \n",
       "</tr>\n",
       "</table><br/><br/>Notes:<br/>[1] Standard Errors assume that the covariance matrix of the errors is correctly specified."
      ]
     },
     "metadata": {},
     "output_type": "display_data"
    }
   ],
   "source": [
    "# Dans le quatrième modèle nous effectuons un test en retirant region\n",
    "regressor = smf.ols('charges~age+bmi+children+smoker', data=df_cmed).fit() # On applique la méthode des moindres carrés\n",
    "regressor.summary() # On affiche en sortie les résultats"
   ]
  },
  {
   "cell_type": "markdown",
   "metadata": {},
   "source": [
    "<i class=\"fa fa-arrow-circle-right\" aria-hidden=\"true\"></i> **Interprétations**\n",
    "> <p style=\"color:#4caba9;\"> Il n'y a plus de p-value au-dessus de notre seuil de significativité depuis le troisième modèle, mais nous avons néanmoins essayé sans la region. Nous pourrions nous arrêter à ce modèle. La p-value est toujours très bonne. <br>Le R² ajusté est à 74%. Nous avons perdu de la performance et nous ne gardons pas ce modèle.\n",
    "</p>"
   ]
  },
  {
   "cell_type": "markdown",
   "metadata": {},
   "source": [
    "<i class=\"fa fa-arrow-circle-right\" aria-hidden=\"true\"></i> **Conclusion**\n",
    "> <p style=\"color:#4caba9;\">Nous conservons le troisième modèle, celui dans lequel nous avons écarté la feature sex. La p-value ne dépasse pas le seuil de significativité et le R² ajusté est à 75%, on se rapproche de 80% (qui est une bonne limite de performance pour le modèle).\n",
    "</p>"
   ]
  },
  {
   "cell_type": "code",
   "execution_count": 230,
   "metadata": {},
   "outputs": [
    {
     "data": {
      "text/plain": [
       "LinearRegression()"
      ]
     },
     "metadata": {},
     "output_type": "display_data"
    }
   ],
   "source": [
    "# On génère le modèle avec les modifications appropriées, en reprenant depuis le splitting\n",
    "train_set, test_set = train_test_split(df_cmed, test_size = 0.2, random_state = 0,\n",
    " stratify=df_cmed[['smoker','region']]) # ici, nous ne gardons que smoker et region dans le stratify !\n",
    "# Nous répétons la division en sous-ensemble sans la colonne sex\n",
    "X_train = train_set[['age','bmi','children','smoker','region']] # On récupère les features (age, bmi, children, smoker et region )\n",
    "X_test = test_set[['age','bmi','children','smoker','region']]\n",
    "y_train = train_set['charges'] # On récupère la target (charges)\n",
    "y_test = test_set['charges']\n",
    "\n",
    "\n",
    "# Nous passons à l'entraînement du modèle de la régression linéaire\n",
    "model = linear_model.LinearRegression() # On initialise le modèle de la régression linéaire\n",
    "\n",
    "model.fit(X_train,y_train) # On ajuste le modèle avec les features d'entraînement (X_train)\n",
    "# et la target d'entraînement (y_train)"
   ]
  },
  {
   "cell_type": "markdown",
   "metadata": {},
   "source": [
    "> ## Prédictions "
   ]
  },
  {
   "cell_type": "code",
   "execution_count": 217,
   "metadata": {},
   "outputs": [
    {
     "data": {
      "text/plain": [
       "(268,)"
      ]
     },
     "metadata": {},
     "output_type": "display_data"
    }
   ],
   "source": [
    "# Nous prédisons les variables y_pred à partir du jeu de test !\n",
    "y_pred= model.predict(X_test) \n",
    "y_pred.shape "
   ]
  },
  {
   "cell_type": "code",
   "execution_count": 220,
   "metadata": {},
   "outputs": [
    {
     "data": {
      "text/html": [
       "<div>\n",
       "<style scoped>\n",
       "    .dataframe tbody tr th:only-of-type {\n",
       "        vertical-align: middle;\n",
       "    }\n",
       "\n",
       "    .dataframe tbody tr th {\n",
       "        vertical-align: top;\n",
       "    }\n",
       "\n",
       "    .dataframe thead th {\n",
       "        text-align: right;\n",
       "    }\n",
       "</style>\n",
       "<table border=\"1\" class=\"dataframe\">\n",
       "  <thead>\n",
       "    <tr style=\"text-align: right;\">\n",
       "      <th></th>\n",
       "      <th>Actual</th>\n",
       "      <th>Predicted</th>\n",
       "    </tr>\n",
       "  </thead>\n",
       "  <tbody>\n",
       "    <tr>\n",
       "      <th>0</th>\n",
       "      <td>11090.71780</td>\n",
       "      <td>15353.617877</td>\n",
       "    </tr>\n",
       "    <tr>\n",
       "      <th>1</th>\n",
       "      <td>8604.48365</td>\n",
       "      <td>8489.017797</td>\n",
       "    </tr>\n",
       "    <tr>\n",
       "      <th>2</th>\n",
       "      <td>2899.48935</td>\n",
       "      <td>5647.601477</td>\n",
       "    </tr>\n",
       "    <tr>\n",
       "      <th>3</th>\n",
       "      <td>6123.56880</td>\n",
       "      <td>6911.443662</td>\n",
       "    </tr>\n",
       "    <tr>\n",
       "      <th>4</th>\n",
       "      <td>13844.50600</td>\n",
       "      <td>23024.827791</td>\n",
       "    </tr>\n",
       "    <tr>\n",
       "      <th>...</th>\n",
       "      <td>...</td>\n",
       "      <td>...</td>\n",
       "    </tr>\n",
       "    <tr>\n",
       "      <th>263</th>\n",
       "      <td>11305.93455</td>\n",
       "      <td>11360.077817</td>\n",
       "    </tr>\n",
       "    <tr>\n",
       "      <th>264</th>\n",
       "      <td>10325.20600</td>\n",
       "      <td>14314.364334</td>\n",
       "    </tr>\n",
       "    <tr>\n",
       "      <th>265</th>\n",
       "      <td>10118.42400</td>\n",
       "      <td>11361.316210</td>\n",
       "    </tr>\n",
       "    <tr>\n",
       "      <th>266</th>\n",
       "      <td>13457.96080</td>\n",
       "      <td>13504.860001</td>\n",
       "    </tr>\n",
       "    <tr>\n",
       "      <th>267</th>\n",
       "      <td>20149.32290</td>\n",
       "      <td>30997.606763</td>\n",
       "    </tr>\n",
       "  </tbody>\n",
       "</table>\n",
       "<p>268 rows × 2 columns</p>\n",
       "</div>"
      ]
     },
     "metadata": {},
     "output_type": "display_data"
    }
   ],
   "source": [
    "# Pour une meilleure lisibilité, on stocke la comparaison entre les valeurs actuelles et les predictions \n",
    "# dans une nouvelle df que l'on nomme df5\n",
    "y_test = y_test.values.reshape(268,) # le .reshape permet de faire fonctionner le .flatten()\n",
    "# On donne à y_test le même nombre de lignes que y_pred !\n",
    "df5 = pd.DataFrame({'Actuelles': y_test.flatten(), 'Prédites': y_pred.flatten()}) \n",
    "# .flatten = méthode numpy qui renvoie une copie du tableau réduit en une seule dimension.\n",
    "df5"
   ]
  },
  {
   "cell_type": "code",
   "execution_count": 221,
   "metadata": {},
   "outputs": [
    {
     "data": {
      "image/png": "[encoded data removed]"
     },
     "metadata": {
      "image/png": {
       "height": 0,
       "width": 0
      }
     },
     "output_type": "display_data"
    }
   ],
   "source": [
    "# Création d'un graph pour visualiser la comparaison \"valeurs actuelles\" / \"predictions\"\n",
    "\n",
    "df6 = df5.head(11)\n",
    "df6.plot(kind='bar',figsize=(14,8))\n",
    "plt.grid(which='major', linestyle='-', linewidth='0.5', color='grey')\n",
    "plt.grid(which='minor', linestyle=':', linewidth='0.5', color='black')\n",
    "plt.show();"
   ]
  },
  {
   "cell_type": "markdown",
   "metadata": {},
   "source": [
    "> <i class=\"fa fa-arrow-circle-right\" aria-hidden=\"true\"></i> **Conclusion de la régression linéaire multiple**\n",
    "> <p style=\"color:#4caba9;\">Le modèle utilisé ici montre que le fait d'être fumeur ou non a une influence sur le coût de la couverture médicale d'un.e américain.e. Toutefois, son score de R² ajusté est seulement de 75% alors qu'il faudrait au moins atteindre 80% pour que le modèle soit suffisamment performant. \n",
    "> Nous ne pensons pas retenir ce modèle pour le présenter à la compagnie d'assurance.</p>"
   ]
  },
  {
   "cell_type": "markdown",
   "metadata": {},
   "source": [
    "# PARTIE 5 : L'arbre de décision (régression) <a class=\"anchor\" id=\"AR\"></a>"
   ]
  },
  {
   "cell_type": "markdown",
   "metadata": {},
   "source": [
    "#### ⭱ [Haut de page](#Sommaire) "
   ]
  },
  {
   "cell_type": "markdown",
   "metadata": {},
   "source": [
    "> ## Construction du modèle "
   ]
  },
  {
   "cell_type": "code",
   "execution_count": 232,
   "metadata": {},
   "outputs": [],
   "source": [
    "# Nous construisons ici l'arbre de régression\n",
    "# Nous lui indiquons, par défaut, un random_state=0 et un max_depth=3\n",
    "\n",
    "regressor = DecisionTreeRegressor(random_state=0, max_depth=3)"
   ]
  },
  {
   "cell_type": "markdown",
   "metadata": {},
   "source": [
    "> ## Paramètres \n",
    "> <p>    <li> <strong>n_estimators</strong>: le nombre d’arbres différents à entraîner.<li><strong>criterion</strong> : c’est le critère statistique utilisé pour couper les feuilles de chaque arbre en cours de construction.<li><strong>max_depth</strong> : la profondeur maximale de chaque arbre, un critère très important qui dépend du niveau d’interaction entre les variables.\n",
    "> \n",
    "Pour la plupart des problèmes, gérer ces trois paramètres devrait déjà vous donner des scores de classification tout à fait acceptables. Si vous recherchez encore un peu plus de performance dans votre modèle, vous pourrez paramétrer en plus :\n",
    "\n",
    "> <li><strong>min_samples_split</strong>: le nombre minimum d’observations qu’il faut dans une feuille avant séparation. Ce critère est un contrôle supplémentaire qui permet d’éviter le sur-apprentissage. En effet, il peut arriver que, même avant d’atteindre la profondeur maximale, il faut stopper certaines branches de l’arbres avant pour éviter de se retrouver avec des feuilles trop isolées.\n",
    "> <li><strong>min_samples_leaf</strong>: Le nombre minimum d'échantillons requis pour être au niveau d'un nœud feuille. Un point de partage à n'importe quelle profondeur ne sera pris en compte que s'il laisse au moins min_samples_leaf échantillons d'apprentissage dans chacune des branches gauche et droite. Cela peut avoir pour effet de lisser le modèle, notamment en régression.\n",
    "> \n",
    "> <li><strong>max_features</strong> : le nombre maximum de variables qu’on tire aléatoirement pour chaque arbre. La valeur par défaut √𝑛 offre un excellent compromis sauf quelques exceptions.\n",
    "> \n",
    "Enfin, il y a d’autres critères qui sont utiles bien que n’influencent pas le score du modèle :\n",
    "> <li><strong>n_jobs</strong> : indique le nombre de coeurs de CPU utilisés pour la construction de l’arbre. Le random forest est un algorithme qui se parallélise bien vu que la construction de chaque arbre est indépendante des autres.\n",
    "> <li><strong>verbose</strong> : ce paramètre permet de surveiller la construction des arbres.\n",
    " \n",
    "</p>"
   ]
  },
  {
   "cell_type": "markdown",
   "metadata": {},
   "source": [
    "> ## Entraînement de l'arbre de régression "
   ]
  },
  {
   "cell_type": "code",
   "execution_count": 233,
   "metadata": {},
   "outputs": [],
   "source": [
    "# Nous repartons du début pour ce nouveau modèle de machine learning !\n",
    "# Division en sous-ensembles Train et Test\n",
    "# Dans stratify, on précise les colonnes que l'on veut pour que tout soit bien équitablement réparti !\n",
    "train_set, test_set = train_test_split(df_cmed, test_size = 0.2, random_state = 0,\n",
    " stratify=df_cmed[['sex','smoker','region']])\n",
    "\n",
    " # Avant de diviser, je stocke le dataframe dans 2 tableaux numpy  x et y pour séparer les variables dep et ind\n",
    "X_trainA = train_set.iloc[:,:-1] # On récupère les features (age, sex, bmi, children, smoker et region )\n",
    "X_testA = test_set.iloc[:,:-1]\n",
    "y_trainA = train_set['charges'] # On récupère la target (charges)\n",
    "y_testA = test_set['charges'] "
   ]
  },
  {
   "cell_type": "code",
   "execution_count": 234,
   "metadata": {},
   "outputs": [
    {
     "data": {
      "text/plain": [
       "DecisionTreeRegressor(max_depth=3, random_state=0)"
      ]
     },
     "metadata": {},
     "output_type": "display_data"
    }
   ],
   "source": [
    "regressor.fit(X_trainA,y_trainA) # On entraîne le modèle !"
   ]
  },
  {
   "cell_type": "markdown",
   "metadata": {},
   "source": [
    "> ## Prédiction"
   ]
  },
  {
   "cell_type": "code",
   "execution_count": 262,
   "metadata": {},
   "outputs": [
    {
     "data": {
      "text/plain": [
       "array([38318.51073017,  6601.76355849,  6601.76355849, 14042.02470742,\n",
       "       45591.27284608,  6601.76355849, 10536.11601449, 18637.02758492,\n",
       "        6601.76355849,  6601.76355849, 45591.27284608,  6601.76355849,\n",
       "        3340.40332065,  3340.40332065, 38318.51073017, 38318.51073017,\n",
       "       10536.11601449,  6601.76355849, 24869.41710708, 14042.02470742,\n",
       "       38318.51073017, 45591.27284608,  6601.76355849,  3340.40332065,\n",
       "       45591.27284608,  3340.40332065,  6601.76355849, 14042.02470742,\n",
       "       38318.51073017,  6601.76355849, 14042.02470742,  6601.76355849,\n",
       "       45591.27284608, 24869.41710708, 45591.27284608,  6601.76355849,\n",
       "        6601.76355849, 24869.41710708,  6601.76355849,  6601.76355849,\n",
       "        6601.76355849,  3340.40332065,  6601.76355849, 14042.02470742,\n",
       "        6601.76355849, 14042.02470742, 38318.51073017, 14042.02470742,\n",
       "       18637.02758492, 45591.27284608, 10536.11601449,  3340.40332065,\n",
       "        6601.76355849,  3340.40332065, 18637.02758492, 18637.02758492,\n",
       "       10536.11601449, 14042.02470742,  6601.76355849, 45591.27284608,\n",
       "        6601.76355849,  6601.76355849,  6601.76355849,  6601.76355849,\n",
       "        3340.40332065, 14042.02470742,  6601.76355849,  6601.76355849,\n",
       "       18637.02758492, 10536.11601449, 14042.02470742,  6601.76355849,\n",
       "        6601.76355849, 10536.11601449, 18637.02758492, 14042.02470742,\n",
       "        6601.76355849, 10536.11601449, 14042.02470742,  6601.76355849,\n",
       "        6601.76355849,  6601.76355849,  3340.40332065,  6601.76355849,\n",
       "       14042.02470742,  6601.76355849,  6601.76355849,  6601.76355849,\n",
       "        6601.76355849,  6601.76355849,  6601.76355849, 38318.51073017,\n",
       "        6601.76355849, 14042.02470742,  6601.76355849,  6601.76355849,\n",
       "       18637.02758492,  6601.76355849, 14042.02470742, 45591.27284608,\n",
       "        3340.40332065,  6601.76355849, 10536.11601449, 45591.27284608,\n",
       "        3340.40332065, 24869.41710708, 38318.51073017, 10536.11601449,\n",
       "        6601.76355849, 38318.51073017,  6601.76355849, 10536.11601449,\n",
       "       38318.51073017,  6601.76355849,  3340.40332065,  6601.76355849,\n",
       "        6601.76355849, 14042.02470742, 14042.02470742, 10536.11601449,\n",
       "       18637.02758492,  6601.76355849, 14042.02470742, 10536.11601449,\n",
       "        6601.76355849, 14042.02470742, 10536.11601449, 14042.02470742,\n",
       "        3340.40332065,  6601.76355849, 14042.02470742, 10536.11601449,\n",
       "       14042.02470742,  6601.76355849, 14042.02470742,  6601.76355849,\n",
       "       14042.02470742, 45591.27284608, 14042.02470742,  6601.76355849,\n",
       "        3340.40332065, 38318.51073017, 10536.11601449,  3340.40332065,\n",
       "       45591.27284608, 10536.11601449, 14042.02470742,  6601.76355849,\n",
       "        3340.40332065,  3340.40332065, 14042.02470742,  6601.76355849,\n",
       "       10536.11601449, 10536.11601449,  6601.76355849,  3340.40332065,\n",
       "        3340.40332065, 14042.02470742, 14042.02470742,  3340.40332065,\n",
       "        6601.76355849,  6601.76355849,  6601.76355849,  6601.76355849,\n",
       "        6601.76355849, 14042.02470742, 10536.11601449,  3340.40332065,\n",
       "        6601.76355849,  3340.40332065,  6601.76355849,  6601.76355849,\n",
       "       10536.11601449,  3340.40332065, 18637.02758492, 38318.51073017,\n",
       "       24869.41710708, 14042.02470742,  6601.76355849, 14042.02470742,\n",
       "       14042.02470742, 38318.51073017,  6601.76355849,  3340.40332065,\n",
       "       45591.27284608, 38318.51073017, 38318.51073017, 14042.02470742,\n",
       "       24869.41710708, 14042.02470742, 10536.11601449,  6601.76355849,\n",
       "        6601.76355849, 24869.41710708, 10536.11601449, 14042.02470742,\n",
       "        6601.76355849, 10536.11601449,  6601.76355849,  3340.40332065,\n",
       "        3340.40332065,  3340.40332065, 14042.02470742,  6601.76355849,\n",
       "        6601.76355849, 38318.51073017,  6601.76355849,  6601.76355849,\n",
       "       14042.02470742, 14042.02470742,  6601.76355849, 14042.02470742,\n",
       "        6601.76355849, 14042.02470742, 10536.11601449,  6601.76355849,\n",
       "       45591.27284608, 24869.41710708,  3340.40332065, 10536.11601449,\n",
       "        6601.76355849,  3340.40332065, 14042.02470742, 38318.51073017,\n",
       "        6601.76355849,  6601.76355849,  3340.40332065, 14042.02470742,\n",
       "        6601.76355849, 14042.02470742,  6601.76355849,  6601.76355849,\n",
       "        6601.76355849, 10536.11601449,  6601.76355849, 38318.51073017,\n",
       "        6601.76355849,  6601.76355849, 38318.51073017,  3340.40332065,\n",
       "        3340.40332065,  6601.76355849,  6601.76355849,  3340.40332065,\n",
       "        6601.76355849, 18637.02758492, 14042.02470742,  3340.40332065,\n",
       "        6601.76355849,  3340.40332065,  3340.40332065,  6601.76355849,\n",
       "        6601.76355849, 14042.02470742,  6601.76355849,  6601.76355849,\n",
       "       14042.02470742, 10536.11601449,  6601.76355849,  6601.76355849,\n",
       "        3340.40332065, 14042.02470742, 38318.51073017, 18637.02758492,\n",
       "       18637.02758492,  3340.40332065,  6601.76355849, 24869.41710708])"
      ]
     },
     "metadata": {},
     "output_type": "display_data"
    }
   ],
   "source": [
    "# On prédit nos variables y_predA\n",
    "y_predA = regressor.predict(X_testA)\n",
    "y_predA"
   ]
  },
  {
   "cell_type": "markdown",
   "metadata": {},
   "source": [
    "> <i class=\"fa fa-bar-chart fa-2x\" aria-hidden=\"true\"></i> \n",
    "> ## Visualisation"
   ]
  },
  {
   "cell_type": "code",
   "execution_count": 242,
   "metadata": {},
   "outputs": [
    {
     "data": {
      "image/png": "[encoded data removed]"
     },
     "metadata": {
      "image/png": {
       "height": 0,
       "width": 0
      }
     },
     "output_type": "display_data"
    }
   ],
   "source": [
    "# On fait une visualisation de l'arbre de régression avec Matplotlib\n",
    "\n",
    "plt.figure(figsize=(16,10))\n",
    "tree.plot_tree(regressor,filled = True, feature_names = list(df_cmed.iloc[:,:-1]))\n",
    "plt.show()"
   ]
  },
  {
   "cell_type": "markdown",
   "metadata": {},
   "source": [
    "> <i class=\"fa fa-arrow-circle-right\" aria-hidden=\"true\"></i> **Observations**\n",
    " <p style=\"color:#4caba9;\">\n",
    "Nous n'avons pas retenus graphviz car il ne fonctionnait pas sur Datalore.<br>\n",
    "Sur le graphique, nous voyons bien la répartition en huit feuilles.</p>"
   ]
  },
  {
   "cell_type": "markdown",
   "metadata": {},
   "source": [
    "> ## Feature engineering"
   ]
  },
  {
   "cell_type": "markdown",
   "metadata": {},
   "source": [
    "> ### `Feature_importances`: déterminer les variables importantes <br>"
   ]
  },
  {
   "cell_type": "code",
   "execution_count": 330,
   "metadata": {},
   "outputs": [
    {
     "data": {
      "text/plain": [
       "array([0.11438004, 0.        , 0.17499723, 0.        , 0.71062272,\n",
       "       0.        ])"
      ]
     },
     "metadata": {},
     "output_type": "display_data"
    }
   ],
   "source": [
    "# On détermine les variables importantes avec .feature_importances_\n",
    "imp= regressor.feature_importances_\n",
    "imp"
   ]
  },
  {
   "cell_type": "code",
   "execution_count": 291,
   "metadata": {},
   "outputs": [],
   "source": [
    "# On donne des noms aux colonnes pour l'affichage que l'on fait ensuite\n",
    "col = ['age', 'sex', 'bmi', 'children', 'smoker', 'region']"
   ]
  },
  {
   "cell_type": "code",
   "execution_count": 292,
   "metadata": {},
   "outputs": [
    {
     "data": {
      "text/html": [
       "<div>\n",
       "<style scoped>\n",
       "    .dataframe tbody tr th:only-of-type {\n",
       "        vertical-align: middle;\n",
       "    }\n",
       "\n",
       "    .dataframe tbody tr th {\n",
       "        vertical-align: top;\n",
       "    }\n",
       "\n",
       "    .dataframe thead th {\n",
       "        text-align: right;\n",
       "    }\n",
       "</style>\n",
       "<table border=\"1\" class=\"dataframe\">\n",
       "  <thead>\n",
       "    <tr style=\"text-align: right;\">\n",
       "      <th></th>\n",
       "      <th>var_imp</th>\n",
       "    </tr>\n",
       "  </thead>\n",
       "  <tbody>\n",
       "    <tr>\n",
       "      <th>smoker</th>\n",
       "      <td>0.710623</td>\n",
       "    </tr>\n",
       "    <tr>\n",
       "      <th>bmi</th>\n",
       "      <td>0.174997</td>\n",
       "    </tr>\n",
       "    <tr>\n",
       "      <th>age</th>\n",
       "      <td>0.114380</td>\n",
       "    </tr>\n",
       "    <tr>\n",
       "      <th>sex</th>\n",
       "      <td>0.000000</td>\n",
       "    </tr>\n",
       "    <tr>\n",
       "      <th>children</th>\n",
       "      <td>0.000000</td>\n",
       "    </tr>\n",
       "    <tr>\n",
       "      <th>region</th>\n",
       "      <td>0.000000</td>\n",
       "    </tr>\n",
       "  </tbody>\n",
       "</table>\n",
       "</div>"
      ]
     },
     "metadata": {},
     "output_type": "display_data"
    }
   ],
   "source": [
    "# Nous construisons un dataframe avec les feature_importances et je les trie par ordre décroissant\n",
    "\n",
    "feature_importances = pd.DataFrame(regressor.feature_importances_, index= col,\n",
    "                                    columns=['var_imp']).sort_values('var_imp', ascending=False)\n",
    "\n",
    "feature_importances\n",
    "\n",
    "# Que signifie les chiffres qui sont triés par ordre décroissant ?\n",
    "# 4 = smoker\n",
    "# 2 = IBM / IMC\n",
    "# 0 = age\n",
    "# Les autres variables n'apportent pas beaucoup d'informations"
   ]
  },
  {
   "cell_type": "markdown",
   "metadata": {},
   "source": [
    "> ### `Evaluation`: évaluer la qualité du modèle"
   ]
  },
  {
   "cell_type": "code",
   "execution_count": 265,
   "metadata": {},
   "outputs": [
    {
     "data": {
      "text/plain": [
       "0.8436155296880752"
      ]
     },
     "metadata": {},
     "output_type": "display_data"
    }
   ],
   "source": [
    "# On évalue la qualité du modèle\n",
    "regressor.score(X_trainA,y_trainA)"
   ]
  },
  {
   "cell_type": "code",
   "execution_count": 266,
   "metadata": {},
   "outputs": [
    {
     "name": "stdout",
     "output_type": "stream",
     "text": [
      "Train Score:  0.8436155296880752\n",
      "Test Score:  0.8977549958033181\n"
     ]
    }
   ],
   "source": [
    "print('Train Score: ', regressor.score(X_trainA, y_trainA))  # metric de performance \n",
    "print('Test Score: ', regressor.score(X_testA, y_testA))  "
   ]
  },
  {
   "cell_type": "markdown",
   "metadata": {},
   "source": [
    "> <i class=\"fa fa-arrow-circle-right\" aria-hidden=\"true\"></i> **Conclusion de l'arbre de régression**\n",
    "> <p style=\"color:#4caba9;\">Le modèle utilisé ici montre que le fait d'être fumeur ou non a une influence sur le coût de la couverture médicale d'un.e américain.e. L'indice de masse corporelle puis l'âge ont également une influence, mais moindre.<br> Le score de R² ajusté du modèle est de 84%, ce qui le rend meilleur que la régression linéaire multiple.\n",
    "> Nous attendons de voir le R² ajusté du random forest pour choisir le meilleur modèle.</p>"
   ]
  },
  {
   "cell_type": "markdown",
   "metadata": {},
   "source": [
    "# PARTIE 6 : Le random forest (régression) <a class=\"anchor\" id=\"RF\"></a>"
   ]
  },
  {
   "cell_type": "markdown",
   "metadata": {},
   "source": [
    "#### ⭱ [Haut de page](#Sommaire) "
   ]
  },
  {
   "cell_type": "markdown",
   "metadata": {},
   "source": [
    "> ## Construction du modèle "
   ]
  },
  {
   "cell_type": "code",
   "execution_count": 331,
   "metadata": {},
   "outputs": [],
   "source": [
    "# On construit le modèle de régression du random forest : RandomForestRegressor\n",
    "# /!\\ On va lui assigner des paramètres pour optimiser la performance du modèle !\n",
    "\n",
    "Regressor_RF= RandomForestRegressor(random_state=0, min_samples_leaf=10,\n",
    "                                   min_samples_split=30)"
   ]
  },
  {
   "cell_type": "markdown",
   "metadata": {},
   "source": [
    "> ## Entraînement de l'arbre "
   ]
  },
  {
   "cell_type": "code",
   "execution_count": 310,
   "metadata": {},
   "outputs": [],
   "source": [
    "# Division en sous-ensembles Train et Test\n",
    "# Dans stratify, on précise les colonnes que l'on veut pour que tout soit bien équitablement réparti !\n",
    "train_set, test_set = train_test_split(df_cmed, test_size = 0.2, random_state = 0,\n",
    " stratify=df_cmed[['sex','smoker','region']])\n",
    "\n",
    " # Avant de diviser, je stocke le dataframe dans 2 tableaux numpy  x et y pour séparer les variables dep et ind\n",
    "X_trainRF = train_set.iloc[:,:-1] # On récupère les features (age, sex, bmi, children, smoker et region )\n",
    "X_testRF = test_set.iloc[:,:-1]\n",
    "y_trainRF = train_set['charges'] # On récupère la target (charges)\n",
    "y_testRF = test_set['charges'] "
   ]
  },
  {
   "cell_type": "code",
   "execution_count": 327,
   "metadata": {},
   "outputs": [
    {
     "data": {
      "text/plain": [
       "RandomForestRegressor(max_depth=5, min_samples_leaf=10, min_samples_split=30,\n",
       "                      n_estimators=10, random_state=0)"
      ]
     },
     "metadata": {},
     "output_type": "display_data"
    }
   ],
   "source": [
    "# On entraîne le modèle !\n",
    "Regressor_RF.fit(X_trainRF,y_trainRF)"
   ]
  },
  {
   "cell_type": "markdown",
   "metadata": {},
   "source": [
    "> ### `Evaluation`: évaluer la qualité du modèle"
   ]
  },
  {
   "cell_type": "code",
   "execution_count": 320,
   "metadata": {},
   "outputs": [
    {
     "data": {
      "text/plain": [
       "0.9126782094946796"
      ]
     },
     "metadata": {},
     "output_type": "display_data"
    }
   ],
   "source": [
    "# On vérifie la qualité du modèle avec le score !\n",
    "Regressor_RF.score(X_testRF,y_testRF)"
   ]
  },
  {
   "cell_type": "markdown",
   "metadata": {},
   "source": [
    "> ### ` GridSearchCV`: Déterminer les paramètres optimaux <br>"
   ]
  },
  {
   "cell_type": "code",
   "execution_count": 332,
   "metadata": {},
   "outputs": [
    {
     "name": "stdout",
     "output_type": "stream",
     "text": [
      "GridSearchCV(estimator=RandomForestRegressor(min_samples_leaf=10,\n",
      "                                             min_samples_split=30,\n",
      "                                             random_state=0),\n",
      "             param_grid={'max_depth': range(1, 11),\n",
      "                         'n_estimators': range(1, 11)})\n"
     ]
    }
   ],
   "source": [
    "# Nous utilisons GridSearchCV pour déterminer quels sont les paramètres optimaux\n",
    "# On donne une liste/range de chiffres allant de 1 à 10 aux paramètres sur lesquels on veut enquêter !\n",
    "grid_cv= GridSearchCV(Regressor_RF, param_grid = {'n_estimators' : range(1, 11),'max_depth':range(1, 11)})\n",
    "print(grid_cv)"
   ]
  },
  {
   "cell_type": "code",
   "execution_count": 335,
   "metadata": {},
   "outputs": [
    {
     "data": {
      "text/plain": [
       "GridSearchCV(estimator=RandomForestRegressor(min_samples_leaf=10,\n",
       "                                             min_samples_split=30,\n",
       "                                             random_state=0),\n",
       "             param_grid={'max_depth': range(1, 11),\n",
       "                         'n_estimators': range(1, 11)})"
      ]
     },
     "metadata": {},
     "output_type": "display_data"
    }
   ],
   "source": [
    "# On entraîne le modèle avec le GridSearchCV \n",
    "grid_cv.fit(X_trainRF, y_trainRF)"
   ]
  },
  {
   "cell_type": "code",
   "execution_count": 336,
   "metadata": {},
   "outputs": [
    {
     "data": {
      "text/plain": [
       "RandomForestRegressor(max_depth=5, min_samples_leaf=10, min_samples_split=30,\n",
       "                      n_estimators=10, random_state=0)"
      ]
     },
     "metadata": {},
     "output_type": "display_data"
    }
   ],
   "source": [
    "# On demande à GridSearchCV de nous sélectionner les meilleurs paramètres : les optimaux !\n",
    "best_tree= grid_cv.best_estimator_\n",
    "best_tree\n",
    "# Il nous montre ici max_depth à 5 et n_estimators à 10 !\n",
    "# On affecte ces paramètres optimaux à best_tree"
   ]
  },
  {
   "cell_type": "code",
   "execution_count": 337,
   "metadata": {},
   "outputs": [
    {
     "data": {
      "text/plain": [
       "{'max_depth': 5, 'n_estimators': 10}"
      ]
     },
     "metadata": {},
     "output_type": "display_data"
    }
   ],
   "source": [
    "# Voici une autre méthode pour afficher les meilleurs paramètres à avoir pour notre modèle !\n",
    "grid_cv.best_params_"
   ]
  },
  {
   "cell_type": "code",
   "execution_count": 338,
   "metadata": {},
   "outputs": [
    {
     "data": {
      "text/plain": [
       "array([36898.84672023,  5186.11850531,  6044.02884524, 12740.80882688,\n",
       "       45645.88367385,  8075.61906698, 10323.72348142, 19364.40507061,\n",
       "        6516.62838703,  6798.73694623, 45382.62840901,  7687.1645126 ,\n",
       "        4540.79951602,  3171.16365513, 40180.67018306, 36898.84672023,\n",
       "        9518.74163828,  6737.4667064 , 22846.95742683, 12462.23919937,\n",
       "       39448.57723211, 44877.07292381,  6418.57518632,  3347.8947313 ,\n",
       "       42659.34154366,  3139.48089715,  4785.36789514, 12462.23919937,\n",
       "       39448.57723211,  7730.6836901 , 13136.83287753,  5757.32242489,\n",
       "       45382.62840901, 23644.98108768, 46757.95665033,  5614.39689198,\n",
       "        7775.44906469, 24706.03168037,  6963.15461399,  6425.83821955,\n",
       "        7089.06146381,  2692.92276736,  5614.39689198, 12889.02110616,\n",
       "        7731.92988719, 13271.81464845, 40347.95669473, 14295.97769907,\n",
       "       17805.32427466, 44578.88152066,  9886.38509103,  5534.90789056,\n",
       "        4831.24647327,  4489.58903618, 17441.67610993, 18576.7352601 ,\n",
       "        9730.66119773, 12991.80161761,  7880.27583336, 44877.07292381,\n",
       "        5036.31221822,  4986.51012608,  6576.31284718,  5113.77589765,\n",
       "        2692.92276736, 14470.98817536,  6196.54494056,  4761.25393864,\n",
       "       19589.02059499,  9145.4227988 , 17173.89270509,  6179.85864984,\n",
       "        4457.87667321, 10586.9086036 , 17217.06058554, 14470.98817536,\n",
       "        7030.99488215,  9804.01429356, 12428.43965068,  6727.96381494,\n",
       "        5826.48160856,  8096.81160168,  4248.6459722 ,  5981.19207496,\n",
       "       12462.23919937,  4572.43326664,  7356.25398931,  7043.96176068,\n",
       "        5741.66266354,  4761.25393864,  4608.74235783, 36898.84672023,\n",
       "        7785.18311483, 15214.59698533,  5396.53487241,  6418.57518632,\n",
       "       19952.66875972,  4445.16749507, 14861.66578976, 44315.62625582,\n",
       "        2719.99697763,  8875.47695775, 11821.85499159, 46459.76524718,\n",
       "        3247.65535244, 25951.85409137, 40347.95669473,  9406.91722783,\n",
       "        7513.99165017, 36092.21726457,  6984.03694418,  9953.4476614 ,\n",
       "       37438.9055619 ,  5614.39689198,  2719.99697763,  8875.47695775,\n",
       "       10713.42017813, 12768.98563041, 14481.06980628, 11633.39456746,\n",
       "       17217.06058554,  8075.61906698, 16002.62265728,  9259.51506303,\n",
       "        7921.71574717, 12462.23919937,  9947.85443977, 12322.00738449,\n",
       "        5898.94678366,  7253.4189812 , 12322.00738449, 10751.2667714 ,\n",
       "       14579.67140804,  7853.55744651, 12593.33044016,  7711.5526204 ,\n",
       "       12655.52423925, 44613.81765897, 13412.04646333,  5660.85500386,\n",
       "        4061.64070773, 37438.9055619 ,  9145.4227988 ,  4075.30276567,\n",
       "       46459.76524718, 11371.68562986, 12153.22606488,  4718.61450644,\n",
       "        3171.16365513,  2681.4066548 , 13140.01389689,  8343.38183946,\n",
       "       10375.93035142, 11371.68562986,  7600.74199065,  4540.79951602,\n",
       "        4185.81633283, 14372.38657359, 13411.17808822,  2326.42347161,\n",
       "        6576.31284718,  4572.43326664,  7319.79049109,  5393.90315463,\n",
       "        5619.15934207, 12867.44489414, 11319.73299083,  2400.76922354,\n",
       "       10713.42017813,  3086.49627339,  7637.1648958 ,  5494.22684872,\n",
       "       10443.90228934,  2326.42347161, 18679.2511481 , 40803.24606885,\n",
       "       25475.60925079, 14295.06908119,  5414.28476608, 15536.09771094,\n",
       "       13108.12523033, 38833.98188573,  5313.63200653,  3047.90595055,\n",
       "       45944.075077  , 39903.86660623, 40347.95669473, 12593.33044016,\n",
       "       25951.85409137, 12462.23919937,  9353.95832412,  6044.02884524,\n",
       "        7803.20440184, 25182.27652096,  9878.94119458, 12322.00738449,\n",
       "        4761.25393864, 12083.56392919,  5628.25109431,  3706.65752454,\n",
       "        4061.64070773,  4190.48880178, 13942.13788562,  5933.41458416,\n",
       "        7678.01975432, 36898.84672023,  7356.25398931,  5113.77589765,\n",
       "       12462.23919937, 17396.66875442,  5287.01899451, 13872.6279188 ,\n",
       "        7513.99165017, 14481.06980628, 11568.43217545,  7852.62159452,\n",
       "       46757.95665033, 25951.85409137,  2921.60850113, 11821.85499159,\n",
       "        7783.16900366,  2326.42347161, 12428.43965068, 36991.59672718,\n",
       "        5620.32287024,  4608.74235783,  4262.30803014, 15214.59698533,\n",
       "        6576.31284718, 14295.06908119,  4761.25393864,  7036.02111574,\n",
       "        5209.92541519,  9993.8463199 ,  6329.7426094 , 40803.24606885,\n",
       "        5984.21926942,  7491.575915  , 36539.52609928,  3061.56800849,\n",
       "        2776.4260455 ,  5186.11850531,  7787.62481124,  3047.90595055,\n",
       "        5411.37469275, 17441.67610993, 12702.55410466,  3519.67500589,\n",
       "        6172.00494854,  2757.33472922,  5455.28767393,  7012.55258871,\n",
       "        4984.01107055, 13140.01389689,  4687.80086746,  9467.30084442,\n",
       "       16002.62265728, 10586.9086036 ,  8067.32627251,  5988.23290133,\n",
       "        6623.26595185, 13863.77907929, 36898.84672023, 19364.40507061,\n",
       "       19589.02059499,  3564.73716115,  6203.82419152, 25951.85409137])"
      ]
     },
     "metadata": {},
     "output_type": "display_data"
    }
   ],
   "source": [
    "# Et on prédit nos données y_pred !\n",
    "best_tree.predict(X_testRF)"
   ]
  },
  {
   "cell_type": "markdown",
   "metadata": {},
   "source": [
    "> <i class=\"fa fa-arrow-circle-right\" aria-hidden=\"true\"></i> **Conclusion du random forest**\n",
    "> <p style=\"color:#4caba9;\">Le modèle utilisé ici montre que le fait d'être fumeur ou non a une influence sur le coût de la couverture médicale d'un.e américain.e. L'indice de masse corporelle puis l'âge ont également une influence, mais moindre.<br> Le score de R² ajusté du modèle est de 91%, ce qui le rend meilleur que la régression linéaire multiple et l'arbre de régression.</p>"
   ]
  },
  {
   "cell_type": "markdown",
   "metadata": {},
   "source": [
    "# Conclusion générale  <a class=\"anchor\" id=\"Conclusion\"></a>"
   ]
  },
  {
   "cell_type": "markdown",
   "metadata": {},
   "source": [
    "#### ⭱ [Haut de page](#Sommaire) "
   ]
  },
  {
   "cell_type": "markdown",
   "metadata": {},
   "source": [
    "<i class=\"fa fa-arrow-circle-right\" aria-hidden=\"true\"></i> **Conclusion générale**\n",
    "> <p style=\"color:#4caba9;\">Le modèle de machine learning le plus performant est celui du random forest. Il s'agit du modèle avec le R² ajusté le plus élevé (91%) des trois modèles sélectionnés. <br>Quant aux variables qui peuvent expliquer le coût de la couverture médicale d'un.e américain.e : le fait d'être fumeur ou non (colonne smoker) est ce qui influence le plus le coût. L'âge et l'indice de masse corporelle, dans une moindre mesure, jouent également un petit rôle dans le coût de ladite couverture médicale.\n",
    "</p>"
   ]
  }
 ],
 "metadata": {
  "kernelspec": {
   "display_name": "Python 3",
   "language": "python",
   "name": "python3"
  },
  "language_info": {
   "codemirror_mode": {
    "name": "ipython",
    "version": 3
   },
   "file_extension": ".py",
   "mimetype": "text/x-python",
   "name": "python",
   "nbconvert_exporter": "python",
   "pygments_lexer": "ipython3",
   "version": "3.8.3"
  }
 },
 "nbformat": 4,
 "nbformat_minor": 1
}
